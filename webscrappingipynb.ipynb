{
  "nbformat": 4,
  "nbformat_minor": 0,
  "metadata": {
    "colab": {
      "name": "webscrappingipynb",
      "provenance": [],
      "authorship_tag": "ABX9TyPMmP8uO+ckB7mq87zlEGgw",
      "include_colab_link": true
    },
    "kernelspec": {
      "name": "python3",
      "display_name": "Python 3"
    },
    "language_info": {
      "name": "python"
    }
  },
  "cells": [
    {
      "cell_type": "markdown",
      "metadata": {
        "id": "view-in-github",
        "colab_type": "text"
      },
      "source": [
        "<a href=\"https://colab.research.google.com/github/JaperTai77/webscraping/blob/main/webscrappingipynb.ipynb\" target=\"_parent\"><img src=\"https://colab.research.google.com/assets/colab-badge.svg\" alt=\"Open In Colab\"/></a>"
      ]
    },
    {
      "cell_type": "code",
      "metadata": {
        "id": "uX0Ygd340SiZ"
      },
      "source": [
        "from bs4 import BeautifulSoup\n",
        "import requests"
      ],
      "execution_count": 1,
      "outputs": []
    },
    {
      "cell_type": "code",
      "metadata": {
        "colab": {
          "base_uri": "https://localhost:8080/"
        },
        "id": "fGfXGkyl3MZS",
        "outputId": "34f26180-556e-4990-c211-cee337c8a085"
      },
      "source": [
        "url = 'http://cpblstats.com/2021-cpbl-batting-stats/'\n",
        "response = requests.get(url)\n",
        "response.status_code"
      ],
      "execution_count": 5,
      "outputs": [
        {
          "output_type": "execute_result",
          "data": {
            "text/plain": [
              "200"
            ]
          },
          "metadata": {},
          "execution_count": 5
        }
      ]
    },
    {
      "cell_type": "code",
      "metadata": {
        "id": "0OaF_epd3eLo"
      },
      "source": [
        "soup = BeautifulSoup(response.content,'html.parser')\n",
        "result = soup.find('table',{'id':\"tablepress-256\"})"
      ],
      "execution_count": 43,
      "outputs": []
    },
    {
      "cell_type": "code",
      "metadata": {
        "colab": {
          "base_uri": "https://localhost:8080/"
        },
        "id": "jVPzGjJ6_yHL",
        "outputId": "4d3f1b41-c3f6-493f-fa7c-3b5d81555aa6"
      },
      "source": [
        "result.find_all('tr',{'class':'row-5'})"
      ],
      "execution_count": 70,
      "outputs": [
        {
          "output_type": "execute_result",
          "data": {
            "text/plain": [
              "[<tr class=\"row-5 odd\">\n",
              " <td class=\"column-1\">陳傑憲</td><td class=\"column-2\">Chen Chieh-Hsien</td><td class=\"column-3\">358</td><td class=\"column-4\">0.328</td><td class=\"column-5\">0.403</td><td class=\"column-6\">0.427</td><td class=\"column-7\">0.830</td><td class=\"column-8\">138.1</td><td class=\"column-9\">145.74</td><td class=\"column-10\">7.8%</td><td class=\"column-11\">10.1%</td><td class=\"column-12\">1.29</td><td class=\"column-13\">0.352</td><td class=\"column-14\">80.0%</td><td class=\"column-15\">0.393</td><td class=\"column-16\">陳傑憲</td><td class=\"column-17\">Chen Chieh-Hsien</td>\n",
              " </tr>]"
            ]
          },
          "metadata": {},
          "execution_count": 70
        }
      ]
    },
    {
      "cell_type": "code",
      "metadata": {
        "id": "MQgFC95490Ws"
      },
      "source": [
        "length = len(result.find_all('td',{'class':'column-1'}))"
      ],
      "execution_count": 64,
      "outputs": []
    },
    {
      "cell_type": "code",
      "metadata": {
        "colab": {
          "base_uri": "https://localhost:8080/",
          "height": 204
        },
        "id": "xuhZyqwd9Yap",
        "outputId": "9ee3d5fa-f012-479b-fc02-ccbc5485adda"
      },
      "source": [
        "import pandas as pd\n",
        "name = []\n",
        "PA = []\n",
        "AVG = []\n",
        "ops_plus = []\n",
        "wRc_plus = []\n",
        "for i in range(length):\n",
        "  name.append(result.find_all('td',{'class':'column-1'})[i].get_text())\n",
        "  PA.append(result.find_all('td',{'class':'column-3'})[i].get_text())\n",
        "  AVG.append(result.find_all('td',{'class':'column-4'})[i].get_text())\n",
        "  ops_plus.append(result.find_all('td',{'class':'column-8'})[i].get_text())\n",
        "  wRc_plus.append(result.find_all('td',{'class':'column-9'})[i].get_text())\n",
        "\n",
        "data = pd.DataFrame({'球員' : name, '打席': PA, '打擊率': AVG, 'OPS+': ops_plus, 'wRc+': wRc_plus})\n",
        "data.head()"
      ],
      "execution_count": 66,
      "outputs": [
        {
          "output_type": "execute_result",
          "data": {
            "text/html": [
              "<div>\n",
              "<style scoped>\n",
              "    .dataframe tbody tr th:only-of-type {\n",
              "        vertical-align: middle;\n",
              "    }\n",
              "\n",
              "    .dataframe tbody tr th {\n",
              "        vertical-align: top;\n",
              "    }\n",
              "\n",
              "    .dataframe thead th {\n",
              "        text-align: right;\n",
              "    }\n",
              "</style>\n",
              "<table border=\"1\" class=\"dataframe\">\n",
              "  <thead>\n",
              "    <tr style=\"text-align: right;\">\n",
              "      <th></th>\n",
              "      <th>球員</th>\n",
              "      <th>打席</th>\n",
              "      <th>打擊率</th>\n",
              "      <th>OPS+</th>\n",
              "      <th>wRc+</th>\n",
              "    </tr>\n",
              "  </thead>\n",
              "  <tbody>\n",
              "    <tr>\n",
              "      <th>0</th>\n",
              "      <td>王威晨</td>\n",
              "      <td>371</td>\n",
              "      <td>0.335</td>\n",
              "      <td>112.1</td>\n",
              "      <td>120.19</td>\n",
              "    </tr>\n",
              "    <tr>\n",
              "      <th>1</th>\n",
              "      <td>許基宏</td>\n",
              "      <td>369</td>\n",
              "      <td>0.290</td>\n",
              "      <td>138.1</td>\n",
              "      <td>139.91</td>\n",
              "    </tr>\n",
              "    <tr>\n",
              "      <th>2</th>\n",
              "      <td>江坤宇</td>\n",
              "      <td>358</td>\n",
              "      <td>0.263</td>\n",
              "      <td>93.6</td>\n",
              "      <td>95.84</td>\n",
              "    </tr>\n",
              "    <tr>\n",
              "      <th>3</th>\n",
              "      <td>陳傑憲</td>\n",
              "      <td>358</td>\n",
              "      <td>0.328</td>\n",
              "      <td>138.1</td>\n",
              "      <td>145.74</td>\n",
              "    </tr>\n",
              "    <tr>\n",
              "      <th>4</th>\n",
              "      <td>蘇智傑</td>\n",
              "      <td>351</td>\n",
              "      <td>0.303</td>\n",
              "      <td>135.1</td>\n",
              "      <td>136.95</td>\n",
              "    </tr>\n",
              "  </tbody>\n",
              "</table>\n",
              "</div>"
            ],
            "text/plain": [
              "    球員   打席    打擊率   OPS+    wRc+\n",
              "0  王威晨  371  0.335  112.1  120.19\n",
              "1  許基宏  369  0.290  138.1  139.91\n",
              "2  江坤宇  358  0.263   93.6   95.84\n",
              "3  陳傑憲  358  0.328  138.1  145.74\n",
              "4  蘇智傑  351  0.303  135.1  136.95"
            ]
          },
          "metadata": {},
          "execution_count": 66
        }
      ]
    },
    {
      "cell_type": "code",
      "metadata": {
        "colab": {
          "base_uri": "https://localhost:8080/"
        },
        "id": "ZaqWGW4vAbcH",
        "outputId": "fedd4169-3789-45e4-c20a-364ced790759"
      },
      "source": [
        "data.info()"
      ],
      "execution_count": 74,
      "outputs": [
        {
          "output_type": "stream",
          "name": "stdout",
          "text": [
            "<class 'pandas.core.frame.DataFrame'>\n",
            "RangeIndex: 138 entries, 0 to 137\n",
            "Data columns (total 5 columns):\n",
            " #   Column  Non-Null Count  Dtype \n",
            "---  ------  --------------  ----- \n",
            " 0   球員      138 non-null    object\n",
            " 1   打席      138 non-null    object\n",
            " 2   打擊率     138 non-null    object\n",
            " 3   OPS+    138 non-null    object\n",
            " 4   wRc+    138 non-null    object\n",
            "dtypes: object(5)\n",
            "memory usage: 5.5+ KB\n"
          ]
        }
      ]
    },
    {
      "cell_type": "code",
      "metadata": {
        "id": "U65yvXvD_kHS"
      },
      "source": [
        "data['打席'] = data['打席'].apply(lambda x: int(x))\n",
        "data['打擊率'] = data['打擊率'].apply(lambda x: float(x))\n",
        "data['OPS+'] = data['OPS+'].apply(lambda x: float(x))\n",
        "data['wRc+'] = data['wRc+'].apply(lambda x: float(x))"
      ],
      "execution_count": 77,
      "outputs": []
    },
    {
      "cell_type": "code",
      "metadata": {
        "colab": {
          "base_uri": "https://localhost:8080/",
          "height": 297
        },
        "id": "ecN5VEp3A2Ob",
        "outputId": "b1222dfc-3ffd-43c0-91e8-c3cb028b5cd3"
      },
      "source": [
        "data.describe()"
      ],
      "execution_count": 78,
      "outputs": [
        {
          "output_type": "execute_result",
          "data": {
            "text/html": [
              "<div>\n",
              "<style scoped>\n",
              "    .dataframe tbody tr th:only-of-type {\n",
              "        vertical-align: middle;\n",
              "    }\n",
              "\n",
              "    .dataframe tbody tr th {\n",
              "        vertical-align: top;\n",
              "    }\n",
              "\n",
              "    .dataframe thead th {\n",
              "        text-align: right;\n",
              "    }\n",
              "</style>\n",
              "<table border=\"1\" class=\"dataframe\">\n",
              "  <thead>\n",
              "    <tr style=\"text-align: right;\">\n",
              "      <th></th>\n",
              "      <th>打席</th>\n",
              "      <th>打擊率</th>\n",
              "      <th>OPS+</th>\n",
              "      <th>wRc+</th>\n",
              "    </tr>\n",
              "  </thead>\n",
              "  <tbody>\n",
              "    <tr>\n",
              "      <th>count</th>\n",
              "      <td>138.000000</td>\n",
              "      <td>138.000000</td>\n",
              "      <td>138.00000</td>\n",
              "      <td>138.000000</td>\n",
              "    </tr>\n",
              "    <tr>\n",
              "      <th>mean</th>\n",
              "      <td>117.572464</td>\n",
              "      <td>0.210268</td>\n",
              "      <td>68.46087</td>\n",
              "      <td>62.679638</td>\n",
              "    </tr>\n",
              "    <tr>\n",
              "      <th>std</th>\n",
              "      <td>107.624509</td>\n",
              "      <td>0.097448</td>\n",
              "      <td>54.57571</td>\n",
              "      <td>69.558589</td>\n",
              "    </tr>\n",
              "    <tr>\n",
              "      <th>min</th>\n",
              "      <td>0.000000</td>\n",
              "      <td>0.000000</td>\n",
              "      <td>-74.70000</td>\n",
              "      <td>-136.560000</td>\n",
              "    </tr>\n",
              "    <tr>\n",
              "      <th>25%</th>\n",
              "      <td>24.500000</td>\n",
              "      <td>0.169250</td>\n",
              "      <td>36.35000</td>\n",
              "      <td>32.642500</td>\n",
              "    </tr>\n",
              "    <tr>\n",
              "      <th>50%</th>\n",
              "      <td>84.000000</td>\n",
              "      <td>0.232500</td>\n",
              "      <td>74.15000</td>\n",
              "      <td>72.100000</td>\n",
              "    </tr>\n",
              "    <tr>\n",
              "      <th>75%</th>\n",
              "      <td>202.750000</td>\n",
              "      <td>0.275750</td>\n",
              "      <td>105.05000</td>\n",
              "      <td>105.637500</td>\n",
              "    </tr>\n",
              "    <tr>\n",
              "      <th>max</th>\n",
              "      <td>371.000000</td>\n",
              "      <td>0.500000</td>\n",
              "      <td>187.50000</td>\n",
              "      <td>209.820000</td>\n",
              "    </tr>\n",
              "  </tbody>\n",
              "</table>\n",
              "</div>"
            ],
            "text/plain": [
              "               打席         打擊率       OPS+        wRc+\n",
              "count  138.000000  138.000000  138.00000  138.000000\n",
              "mean   117.572464    0.210268   68.46087   62.679638\n",
              "std    107.624509    0.097448   54.57571   69.558589\n",
              "min      0.000000    0.000000  -74.70000 -136.560000\n",
              "25%     24.500000    0.169250   36.35000   32.642500\n",
              "50%     84.000000    0.232500   74.15000   72.100000\n",
              "75%    202.750000    0.275750  105.05000  105.637500\n",
              "max    371.000000    0.500000  187.50000  209.820000"
            ]
          },
          "metadata": {},
          "execution_count": 78
        }
      ]
    },
    {
      "cell_type": "code",
      "metadata": {
        "colab": {
          "base_uri": "https://localhost:8080/",
          "height": 359
        },
        "id": "rom8CweTAHLV",
        "outputId": "27d90d7c-7199-4b0a-9360-26498d1c0c19"
      },
      "source": [
        "data.sort_values(by = 'wRc+', ascending = True).head(10)"
      ],
      "execution_count": 88,
      "outputs": [
        {
          "output_type": "execute_result",
          "data": {
            "text/html": [
              "<div>\n",
              "<style scoped>\n",
              "    .dataframe tbody tr th:only-of-type {\n",
              "        vertical-align: middle;\n",
              "    }\n",
              "\n",
              "    .dataframe tbody tr th {\n",
              "        vertical-align: top;\n",
              "    }\n",
              "\n",
              "    .dataframe thead th {\n",
              "        text-align: right;\n",
              "    }\n",
              "</style>\n",
              "<table border=\"1\" class=\"dataframe\">\n",
              "  <thead>\n",
              "    <tr style=\"text-align: right;\">\n",
              "      <th></th>\n",
              "      <th>球員</th>\n",
              "      <th>打席</th>\n",
              "      <th>打擊率</th>\n",
              "      <th>OPS+</th>\n",
              "      <th>wRc+</th>\n",
              "    </tr>\n",
              "  </thead>\n",
              "  <tbody>\n",
              "    <tr>\n",
              "      <th>134</th>\n",
              "      <td>王順和</td>\n",
              "      <td>2</td>\n",
              "      <td>0.000</td>\n",
              "      <td>0.0</td>\n",
              "      <td>-136.56</td>\n",
              "    </tr>\n",
              "    <tr>\n",
              "      <th>133</th>\n",
              "      <td>董子浩</td>\n",
              "      <td>3</td>\n",
              "      <td>0.000</td>\n",
              "      <td>0.0</td>\n",
              "      <td>-136.56</td>\n",
              "    </tr>\n",
              "    <tr>\n",
              "      <th>132</th>\n",
              "      <td>張皓緯</td>\n",
              "      <td>4</td>\n",
              "      <td>0.000</td>\n",
              "      <td>0.0</td>\n",
              "      <td>-136.56</td>\n",
              "    </tr>\n",
              "    <tr>\n",
              "      <th>130</th>\n",
              "      <td>牛塏曄</td>\n",
              "      <td>4</td>\n",
              "      <td>0.000</td>\n",
              "      <td>0.0</td>\n",
              "      <td>-136.56</td>\n",
              "    </tr>\n",
              "    <tr>\n",
              "      <th>136</th>\n",
              "      <td>黃韋盛</td>\n",
              "      <td>1</td>\n",
              "      <td>0.000</td>\n",
              "      <td>0.0</td>\n",
              "      <td>-136.56</td>\n",
              "    </tr>\n",
              "    <tr>\n",
              "      <th>117</th>\n",
              "      <td>馮健庭</td>\n",
              "      <td>12</td>\n",
              "      <td>0.000</td>\n",
              "      <td>-74.7</td>\n",
              "      <td>-92.17</td>\n",
              "    </tr>\n",
              "    <tr>\n",
              "      <th>118</th>\n",
              "      <td>許哲晏</td>\n",
              "      <td>11</td>\n",
              "      <td>0.000</td>\n",
              "      <td>-72.4</td>\n",
              "      <td>-88.13</td>\n",
              "    </tr>\n",
              "    <tr>\n",
              "      <th>120</th>\n",
              "      <td>鄭鎧文</td>\n",
              "      <td>10</td>\n",
              "      <td>0.000</td>\n",
              "      <td>-69.6</td>\n",
              "      <td>-83.29</td>\n",
              "    </tr>\n",
              "    <tr>\n",
              "      <th>121</th>\n",
              "      <td>李丞齡</td>\n",
              "      <td>9</td>\n",
              "      <td>0.111</td>\n",
              "      <td>-36.1</td>\n",
              "      <td>-59.59</td>\n",
              "    </tr>\n",
              "    <tr>\n",
              "      <th>116</th>\n",
              "      <td>王勝偉</td>\n",
              "      <td>13</td>\n",
              "      <td>0.000</td>\n",
              "      <td>-44.7</td>\n",
              "      <td>-52.58</td>\n",
              "    </tr>\n",
              "  </tbody>\n",
              "</table>\n",
              "</div>"
            ],
            "text/plain": [
              "      球員  打席    打擊率  OPS+    wRc+\n",
              "134  王順和   2  0.000   0.0 -136.56\n",
              "133  董子浩   3  0.000   0.0 -136.56\n",
              "132  張皓緯   4  0.000   0.0 -136.56\n",
              "130  牛塏曄   4  0.000   0.0 -136.56\n",
              "136  黃韋盛   1  0.000   0.0 -136.56\n",
              "117  馮健庭  12  0.000 -74.7  -92.17\n",
              "118  許哲晏  11  0.000 -72.4  -88.13\n",
              "120  鄭鎧文  10  0.000 -69.6  -83.29\n",
              "121  李丞齡   9  0.111 -36.1  -59.59\n",
              "116  王勝偉  13  0.000 -44.7  -52.58"
            ]
          },
          "metadata": {},
          "execution_count": 88
        }
      ]
    },
    {
      "cell_type": "code",
      "metadata": {
        "colab": {
          "base_uri": "https://localhost:8080/",
          "height": 359
        },
        "id": "M7ESW-bnBWkf",
        "outputId": "22b26991-53fe-492b-fbd5-d97933b9f012"
      },
      "source": [
        "condition = (data['打席']>100) & (data['打席']<200)\n",
        "data[condition].nlargest(10,'打擊率')"
      ],
      "execution_count": 87,
      "outputs": [
        {
          "output_type": "execute_result",
          "data": {
            "text/html": [
              "<div>\n",
              "<style scoped>\n",
              "    .dataframe tbody tr th:only-of-type {\n",
              "        vertical-align: middle;\n",
              "    }\n",
              "\n",
              "    .dataframe tbody tr th {\n",
              "        vertical-align: top;\n",
              "    }\n",
              "\n",
              "    .dataframe thead th {\n",
              "        text-align: right;\n",
              "    }\n",
              "</style>\n",
              "<table border=\"1\" class=\"dataframe\">\n",
              "  <thead>\n",
              "    <tr style=\"text-align: right;\">\n",
              "      <th></th>\n",
              "      <th>球員</th>\n",
              "      <th>打席</th>\n",
              "      <th>打擊率</th>\n",
              "      <th>OPS+</th>\n",
              "      <th>wRc+</th>\n",
              "    </tr>\n",
              "  </thead>\n",
              "  <tbody>\n",
              "    <tr>\n",
              "      <th>47</th>\n",
              "      <td>張進德</td>\n",
              "      <td>143</td>\n",
              "      <td>0.339</td>\n",
              "      <td>142.8</td>\n",
              "      <td>146.89</td>\n",
              "    </tr>\n",
              "    <tr>\n",
              "      <th>49</th>\n",
              "      <td>高孝儀</td>\n",
              "      <td>137</td>\n",
              "      <td>0.310</td>\n",
              "      <td>93.2</td>\n",
              "      <td>95.39</td>\n",
              "    </tr>\n",
              "    <tr>\n",
              "      <th>48</th>\n",
              "      <td>郭永維</td>\n",
              "      <td>139</td>\n",
              "      <td>0.304</td>\n",
              "      <td>103.4</td>\n",
              "      <td>96.23</td>\n",
              "    </tr>\n",
              "    <tr>\n",
              "      <th>59</th>\n",
              "      <td>葉竹軒</td>\n",
              "      <td>102</td>\n",
              "      <td>0.301</td>\n",
              "      <td>129.7</td>\n",
              "      <td>142.11</td>\n",
              "    </tr>\n",
              "    <tr>\n",
              "      <th>42</th>\n",
              "      <td>馬傑森</td>\n",
              "      <td>149</td>\n",
              "      <td>0.292</td>\n",
              "      <td>93.0</td>\n",
              "      <td>93.45</td>\n",
              "    </tr>\n",
              "    <tr>\n",
              "      <th>56</th>\n",
              "      <td>張偉聖</td>\n",
              "      <td>105</td>\n",
              "      <td>0.292</td>\n",
              "      <td>98.5</td>\n",
              "      <td>101.89</td>\n",
              "    </tr>\n",
              "    <tr>\n",
              "      <th>39</th>\n",
              "      <td>張志豪</td>\n",
              "      <td>167</td>\n",
              "      <td>0.271</td>\n",
              "      <td>135.3</td>\n",
              "      <td>141.23</td>\n",
              "    </tr>\n",
              "    <tr>\n",
              "      <th>37</th>\n",
              "      <td>曾陶鎔</td>\n",
              "      <td>193</td>\n",
              "      <td>0.263</td>\n",
              "      <td>122.8</td>\n",
              "      <td>127.25</td>\n",
              "    </tr>\n",
              "    <tr>\n",
              "      <th>53</th>\n",
              "      <td>吳桀睿</td>\n",
              "      <td>120</td>\n",
              "      <td>0.262</td>\n",
              "      <td>99.3</td>\n",
              "      <td>104.72</td>\n",
              "    </tr>\n",
              "    <tr>\n",
              "      <th>43</th>\n",
              "      <td>楊瑞承</td>\n",
              "      <td>146</td>\n",
              "      <td>0.254</td>\n",
              "      <td>105.2</td>\n",
              "      <td>110.33</td>\n",
              "    </tr>\n",
              "  </tbody>\n",
              "</table>\n",
              "</div>"
            ],
            "text/plain": [
              "     球員   打席    打擊率   OPS+    wRc+\n",
              "47  張進德  143  0.339  142.8  146.89\n",
              "49  高孝儀  137  0.310   93.2   95.39\n",
              "48  郭永維  139  0.304  103.4   96.23\n",
              "59  葉竹軒  102  0.301  129.7  142.11\n",
              "42  馬傑森  149  0.292   93.0   93.45\n",
              "56  張偉聖  105  0.292   98.5  101.89\n",
              "39  張志豪  167  0.271  135.3  141.23\n",
              "37  曾陶鎔  193  0.263  122.8  127.25\n",
              "53  吳桀睿  120  0.262   99.3  104.72\n",
              "43  楊瑞承  146  0.254  105.2  110.33"
            ]
          },
          "metadata": {},
          "execution_count": 87
        }
      ]
    }
  ]
}