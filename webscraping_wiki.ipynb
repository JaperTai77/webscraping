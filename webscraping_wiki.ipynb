{
  "nbformat": 4,
  "nbformat_minor": 0,
  "metadata": {
    "colab": {
      "name": "webscraping_wiki.ipynb",
      "provenance": [],
      "authorship_tag": "ABX9TyO7VY6Urs7Ab5kQD7sgi5TD",
      "include_colab_link": true
    },
    "kernelspec": {
      "name": "python3",
      "display_name": "Python 3"
    },
    "language_info": {
      "name": "python"
    }
  },
  "cells": [
    {
      "cell_type": "markdown",
      "metadata": {
        "id": "view-in-github",
        "colab_type": "text"
      },
      "source": [
        "<a href=\"https://colab.research.google.com/github/JaperTai77/webscraping/blob/main/webscraping_wiki.ipynb\" target=\"_parent\"><img src=\"https://colab.research.google.com/assets/colab-badge.svg\" alt=\"Open In Colab\"/></a>"
      ]
    },
    {
      "cell_type": "code",
      "metadata": {
        "id": "2elueBpP7f4u"
      },
      "source": [
        "import requests\n",
        "import time\n",
        "from bs4 import BeautifulSoup\n",
        "import numpy as np\n",
        "import pandas as pd"
      ],
      "execution_count": 1,
      "outputs": []
    },
    {
      "cell_type": "code",
      "metadata": {
        "id": "t9YJtXLz7wvn"
      },
      "source": [
        "url = 'https://en.wikipedia.org/wiki/Epidemiology_of_depression'\n",
        "response = requests.get(url)\n",
        "soup = BeautifulSoup(response.content,'html.parser')"
      ],
      "execution_count": 143,
      "outputs": []
    },
    {
      "cell_type": "code",
      "metadata": {
        "colab": {
          "base_uri": "https://localhost:8080/",
          "height": 37
        },
        "id": "MSAJtkz8-l8_",
        "outputId": "78043bb9-d9ba-43a7-899e-dc0ecc8974cc"
      },
      "source": [
        "soup.find_all('tr')[1].find_all('td')[0].get_text().strip()"
      ],
      "execution_count": 33,
      "outputs": [
        {
          "output_type": "execute_result",
          "data": {
            "application/vnd.google.colaboratory.intrinsic+json": {
              "type": "string"
            },
            "text/plain": [
              "'1'"
            ]
          },
          "metadata": {},
          "execution_count": 33
        }
      ]
    },
    {
      "cell_type": "code",
      "metadata": {
        "colab": {
          "base_uri": "https://localhost:8080/",
          "height": 37
        },
        "id": "hVxoM4fR9b6Z",
        "outputId": "dd5b5899-f85b-4d30-f60e-a007f44a8418"
      },
      "source": [
        "soup.find_all('tr')[1].find_all('td')[1].find('a')['title']"
      ],
      "execution_count": 26,
      "outputs": [
        {
          "output_type": "execute_result",
          "data": {
            "application/vnd.google.colaboratory.intrinsic+json": {
              "type": "string"
            },
            "text/plain": [
              "'United States'"
            ]
          },
          "metadata": {},
          "execution_count": 26
        }
      ]
    },
    {
      "cell_type": "code",
      "metadata": {
        "colab": {
          "base_uri": "https://localhost:8080/",
          "height": 37
        },
        "id": "7hMB_W1U-U1I",
        "outputId": "fcc0e907-6082-43b6-e7ad-72a0ac814097"
      },
      "source": [
        "soup.find_all('tr')[1].find_all('td')[2].get_text().strip()"
      ],
      "execution_count": 32,
      "outputs": [
        {
          "output_type": "execute_result",
          "data": {
            "application/vnd.google.colaboratory.intrinsic+json": {
              "type": "string"
            },
            "text/plain": [
              "'1,454.74'"
            ]
          },
          "metadata": {},
          "execution_count": 32
        }
      ]
    },
    {
      "cell_type": "code",
      "metadata": {
        "id": "ulHfc_k6-wki"
      },
      "source": [
        "rank = []\n",
        "country = []\n",
        "rate = []\n",
        "for i in range(1,193):\n",
        "  rank.append(int(soup.find_all('tr')[i].find_all('td')[0].get_text().strip()))\n",
        "  country.append(soup.find_all('tr')[i].find_all('td')[1].find('a')['title'])\n",
        "  rate.append(soup.find_all('tr')[i].find_all('td')[2].get_text().strip())\n",
        "data = pd.DataFrame(columns = [soup.find('tr').find_all('th')[i].get_text().strip() for i in range(0,3)])\n",
        "\n",
        "data[data.columns[0]] = rank\n",
        "data[data.columns[1]] = country\n",
        "data[data.columns[2]] = rate"
      ],
      "execution_count": 144,
      "outputs": []
    },
    {
      "cell_type": "code",
      "metadata": {
        "id": "qI9PPUZmCJMu"
      },
      "source": [
        "data['DALY rate'] = data['DALY rate'].apply(lambda x: x.replace(',',''))\n",
        "data['DALY rate'] = data['DALY rate'].apply(lambda x: float(x))"
      ],
      "execution_count": 145,
      "outputs": []
    },
    {
      "cell_type": "code",
      "metadata": {
        "colab": {
          "base_uri": "https://localhost:8080/",
          "height": 204
        },
        "id": "JlWoznUJCeiv",
        "outputId": "a1a165a4-8f39-45fb-da84-a5c93fe39c7e"
      },
      "source": [
        "data.head()"
      ],
      "execution_count": 56,
      "outputs": [
        {
          "output_type": "execute_result",
          "data": {
            "text/html": [
              "<div>\n",
              "<style scoped>\n",
              "    .dataframe tbody tr th:only-of-type {\n",
              "        vertical-align: middle;\n",
              "    }\n",
              "\n",
              "    .dataframe tbody tr th {\n",
              "        vertical-align: top;\n",
              "    }\n",
              "\n",
              "    .dataframe thead th {\n",
              "        text-align: right;\n",
              "    }\n",
              "</style>\n",
              "<table border=\"1\" class=\"dataframe\">\n",
              "  <thead>\n",
              "    <tr style=\"text-align: right;\">\n",
              "      <th></th>\n",
              "      <th>Rank</th>\n",
              "      <th>Country</th>\n",
              "      <th>DALY rate</th>\n",
              "    </tr>\n",
              "  </thead>\n",
              "  <tbody>\n",
              "    <tr>\n",
              "      <th>0</th>\n",
              "      <td>1</td>\n",
              "      <td>United States</td>\n",
              "      <td>1454.74</td>\n",
              "    </tr>\n",
              "    <tr>\n",
              "      <th>1</th>\n",
              "      <td>2</td>\n",
              "      <td>Nepal</td>\n",
              "      <td>1424.48</td>\n",
              "    </tr>\n",
              "    <tr>\n",
              "      <th>2</th>\n",
              "      <td>3</td>\n",
              "      <td>East Timor</td>\n",
              "      <td>1404.10</td>\n",
              "    </tr>\n",
              "    <tr>\n",
              "      <th>3</th>\n",
              "      <td>4</td>\n",
              "      <td>Bangladesh</td>\n",
              "      <td>1401.53</td>\n",
              "    </tr>\n",
              "    <tr>\n",
              "      <th>4</th>\n",
              "      <td>5</td>\n",
              "      <td>India</td>\n",
              "      <td>1400.84</td>\n",
              "    </tr>\n",
              "  </tbody>\n",
              "</table>\n",
              "</div>"
            ],
            "text/plain": [
              "   Rank        Country  DALY rate\n",
              "0     1  United States    1454.74\n",
              "1     2          Nepal    1424.48\n",
              "2     3     East Timor    1404.10\n",
              "3     4     Bangladesh    1401.53\n",
              "4     5          India    1400.84"
            ]
          },
          "metadata": {},
          "execution_count": 56
        }
      ]
    },
    {
      "cell_type": "code",
      "metadata": {
        "id": "9xOkFF8iAvXW"
      },
      "source": [
        "url = 'https://en.wikipedia.org/wiki/List_of_cities_by_sunshine_duration'\n",
        "response = requests.get(url)\n",
        "soup = BeautifulSoup(response.content,'html.parser')"
      ],
      "execution_count": 48,
      "outputs": []
    },
    {
      "cell_type": "code",
      "metadata": {
        "colab": {
          "base_uri": "https://localhost:8080/",
          "height": 37
        },
        "id": "vahonXGJBZpW",
        "outputId": "11208feb-6e91-40cd-8d9d-b7215a236c13"
      },
      "source": [
        "soup.find_all('tr')[385].find_all('td')[0].get_text().strip()"
      ],
      "execution_count": 112,
      "outputs": [
        {
          "output_type": "execute_result",
          "data": {
            "application/vnd.google.colaboratory.intrinsic+json": {
              "type": "string"
            },
            "text/plain": [
              "'Solomon Islands'"
            ]
          },
          "metadata": {},
          "execution_count": 112
        }
      ]
    },
    {
      "cell_type": "code",
      "metadata": {
        "colab": {
          "base_uri": "https://localhost:8080/",
          "height": 37
        },
        "id": "l5z-T4RCBb4O",
        "outputId": "9a6daada-6548-492b-e427-c0933443afa7"
      },
      "source": [
        "soup.find_all('tr')[385].find_all('td')[14].get_text().strip()"
      ],
      "execution_count": 99,
      "outputs": [
        {
          "output_type": "execute_result",
          "data": {
            "application/vnd.google.colaboratory.intrinsic+json": {
              "type": "string"
            },
            "text/plain": [
              "'2,330'"
            ]
          },
          "metadata": {},
          "execution_count": 99
        }
      ]
    },
    {
      "cell_type": "code",
      "metadata": {
        "id": "UAma2uSlC5sC"
      },
      "source": [
        "country = []\n",
        "rate = []\n",
        "for i in range(2,len(soup.find_all('tr'))):\n",
        "  if (i == 113) or (i == 187) or (i == 255) or (i == 329) or (i == 369):\n",
        "    True\n",
        "  else:\n",
        "    country.append(soup.find_all('tr')[i].find_all('td')[0].get_text().strip())\n",
        "    rate.append(soup.find_all('tr')[i].find_all('td')[14].get_text().strip())\n",
        "data2 = pd.DataFrame({'country': country, 'rate': rate})\n"
      ],
      "execution_count": 118,
      "outputs": []
    },
    {
      "cell_type": "code",
      "metadata": {
        "id": "HufU0OmJFtVv"
      },
      "source": [
        "data2['Sunshine hours'] = data2['rate'].apply(lambda x: x.replace(',',''))\n",
        "data2['Sunshine hours'] = data2['Sunshine hours'].apply(lambda x: float(x))"
      ],
      "execution_count": 128,
      "outputs": []
    },
    {
      "cell_type": "code",
      "metadata": {
        "colab": {
          "base_uri": "https://localhost:8080/",
          "height": 235
        },
        "id": "4yYw8QHgExzh",
        "outputId": "9cdee898-6646-42cd-ae0e-c9a7e86dd4ef"
      },
      "source": [
        "data2 = data2.groupby('country').agg({'Sunshine hours':['mean']}).reset_index()\n",
        "data2.head()"
      ],
      "execution_count": 135,
      "outputs": [
        {
          "output_type": "execute_result",
          "data": {
            "text/html": [
              "<div>\n",
              "<style scoped>\n",
              "    .dataframe tbody tr th:only-of-type {\n",
              "        vertical-align: middle;\n",
              "    }\n",
              "\n",
              "    .dataframe tbody tr th {\n",
              "        vertical-align: top;\n",
              "    }\n",
              "\n",
              "    .dataframe thead tr th {\n",
              "        text-align: left;\n",
              "    }\n",
              "</style>\n",
              "<table border=\"1\" class=\"dataframe\">\n",
              "  <thead>\n",
              "    <tr>\n",
              "      <th></th>\n",
              "      <th>country</th>\n",
              "      <th>Sunshine hours</th>\n",
              "    </tr>\n",
              "    <tr>\n",
              "      <th></th>\n",
              "      <th></th>\n",
              "      <th>mean</th>\n",
              "    </tr>\n",
              "  </thead>\n",
              "  <tbody>\n",
              "    <tr>\n",
              "      <th>0</th>\n",
              "      <td>Afghanistan</td>\n",
              "      <td>3175.1</td>\n",
              "    </tr>\n",
              "    <tr>\n",
              "      <th>1</th>\n",
              "      <td>Albania</td>\n",
              "      <td>2544.0</td>\n",
              "    </tr>\n",
              "    <tr>\n",
              "      <th>2</th>\n",
              "      <td>Algeria</td>\n",
              "      <td>3266.5</td>\n",
              "    </tr>\n",
              "    <tr>\n",
              "      <th>3</th>\n",
              "      <td>Angola</td>\n",
              "      <td>2341.0</td>\n",
              "    </tr>\n",
              "    <tr>\n",
              "      <th>4</th>\n",
              "      <td>Argentina</td>\n",
              "      <td>2220.3</td>\n",
              "    </tr>\n",
              "  </tbody>\n",
              "</table>\n",
              "</div>"
            ],
            "text/plain": [
              "       country Sunshine hours\n",
              "                         mean\n",
              "0  Afghanistan         3175.1\n",
              "1      Albania         2544.0\n",
              "2      Algeria         3266.5\n",
              "3       Angola         2341.0\n",
              "4    Argentina         2220.3"
            ]
          },
          "metadata": {},
          "execution_count": 135
        }
      ]
    },
    {
      "cell_type": "code",
      "metadata": {
        "id": "SFzaw2tSHGqD"
      },
      "source": [
        "data = data.merge(data2, left_on='Country', right_on='country')\n",
        "data.columns = ['Rank','Country','Daily rate','C','Sunshine hours']\n",
        "data = data.drop(columns = ['C'])"
      ],
      "execution_count": 147,
      "outputs": []
    },
    {
      "cell_type": "code",
      "metadata": {
        "colab": {
          "base_uri": "https://localhost:8080/",
          "height": 669
        },
        "id": "Qzphe2uQIkdF",
        "outputId": "579665da-820d-4e94-b4bb-ffbbeee2cbdb"
      },
      "source": [
        "data.nsmallest(20,'Rank')"
      ],
      "execution_count": 150,
      "outputs": [
        {
          "output_type": "execute_result",
          "data": {
            "text/html": [
              "<div>\n",
              "<style scoped>\n",
              "    .dataframe tbody tr th:only-of-type {\n",
              "        vertical-align: middle;\n",
              "    }\n",
              "\n",
              "    .dataframe tbody tr th {\n",
              "        vertical-align: top;\n",
              "    }\n",
              "\n",
              "    .dataframe thead th {\n",
              "        text-align: right;\n",
              "    }\n",
              "</style>\n",
              "<table border=\"1\" class=\"dataframe\">\n",
              "  <thead>\n",
              "    <tr style=\"text-align: right;\">\n",
              "      <th></th>\n",
              "      <th>Rank</th>\n",
              "      <th>Country</th>\n",
              "      <th>Daily rate</th>\n",
              "      <th>Sunshine hours</th>\n",
              "    </tr>\n",
              "  </thead>\n",
              "  <tbody>\n",
              "    <tr>\n",
              "      <th>0</th>\n",
              "      <td>1</td>\n",
              "      <td>United States</td>\n",
              "      <td>1454.74</td>\n",
              "      <td>2827.618519</td>\n",
              "    </tr>\n",
              "    <tr>\n",
              "      <th>1</th>\n",
              "      <td>4</td>\n",
              "      <td>Bangladesh</td>\n",
              "      <td>1401.53</td>\n",
              "      <td>2066.000000</td>\n",
              "    </tr>\n",
              "    <tr>\n",
              "      <th>2</th>\n",
              "      <td>5</td>\n",
              "      <td>India</td>\n",
              "      <td>1400.84</td>\n",
              "      <td>2517.020000</td>\n",
              "    </tr>\n",
              "    <tr>\n",
              "      <th>3</th>\n",
              "      <td>6</td>\n",
              "      <td>Pakistan</td>\n",
              "      <td>1400.42</td>\n",
              "      <td>3108.516667</td>\n",
              "    </tr>\n",
              "    <tr>\n",
              "      <th>4</th>\n",
              "      <td>7</td>\n",
              "      <td>Brazil</td>\n",
              "      <td>1396.10</td>\n",
              "      <td>2237.581818</td>\n",
              "    </tr>\n",
              "    <tr>\n",
              "      <th>5</th>\n",
              "      <td>10</td>\n",
              "      <td>Afghanistan</td>\n",
              "      <td>1385.14</td>\n",
              "      <td>3175.100000</td>\n",
              "    </tr>\n",
              "    <tr>\n",
              "      <th>6</th>\n",
              "      <td>11</td>\n",
              "      <td>Finland</td>\n",
              "      <td>1344.13</td>\n",
              "      <td>1858.000000</td>\n",
              "    </tr>\n",
              "    <tr>\n",
              "      <th>7</th>\n",
              "      <td>12</td>\n",
              "      <td>Israel</td>\n",
              "      <td>1273.92</td>\n",
              "      <td>3311.000000</td>\n",
              "    </tr>\n",
              "    <tr>\n",
              "      <th>8</th>\n",
              "      <td>13</td>\n",
              "      <td>Slovenia</td>\n",
              "      <td>1248.47</td>\n",
              "      <td>1974.000000</td>\n",
              "    </tr>\n",
              "    <tr>\n",
              "      <th>9</th>\n",
              "      <td>14</td>\n",
              "      <td>Belgium</td>\n",
              "      <td>1244.46</td>\n",
              "      <td>1546.000000</td>\n",
              "    </tr>\n",
              "    <tr>\n",
              "      <th>10</th>\n",
              "      <td>15</td>\n",
              "      <td>France</td>\n",
              "      <td>1234.32</td>\n",
              "      <td>2166.666667</td>\n",
              "    </tr>\n",
              "    <tr>\n",
              "      <th>11</th>\n",
              "      <td>16</td>\n",
              "      <td>Chile</td>\n",
              "      <td>1221.23</td>\n",
              "      <td>2841.780000</td>\n",
              "    </tr>\n",
              "    <tr>\n",
              "      <th>12</th>\n",
              "      <td>19</td>\n",
              "      <td>Bolivia</td>\n",
              "      <td>1161.56</td>\n",
              "      <td>2288.900000</td>\n",
              "    </tr>\n",
              "    <tr>\n",
              "      <th>13</th>\n",
              "      <td>20</td>\n",
              "      <td>Nicaragua</td>\n",
              "      <td>1161.25</td>\n",
              "      <td>2759.900000</td>\n",
              "    </tr>\n",
              "    <tr>\n",
              "      <th>14</th>\n",
              "      <td>21</td>\n",
              "      <td>Canada</td>\n",
              "      <td>1157.07</td>\n",
              "      <td>2028.044444</td>\n",
              "    </tr>\n",
              "    <tr>\n",
              "      <th>15</th>\n",
              "      <td>22</td>\n",
              "      <td>Ecuador</td>\n",
              "      <td>1156.30</td>\n",
              "      <td>1909.550000</td>\n",
              "    </tr>\n",
              "    <tr>\n",
              "      <th>16</th>\n",
              "      <td>23</td>\n",
              "      <td>Peru</td>\n",
              "      <td>1156.07</td>\n",
              "      <td>2281.650000</td>\n",
              "    </tr>\n",
              "    <tr>\n",
              "      <th>17</th>\n",
              "      <td>24</td>\n",
              "      <td>Croatia</td>\n",
              "      <td>1141.79</td>\n",
              "      <td>2272.000000</td>\n",
              "    </tr>\n",
              "    <tr>\n",
              "      <th>18</th>\n",
              "      <td>25</td>\n",
              "      <td>Armenia</td>\n",
              "      <td>1133.20</td>\n",
              "      <td>2474.000000</td>\n",
              "    </tr>\n",
              "    <tr>\n",
              "      <th>19</th>\n",
              "      <td>26</td>\n",
              "      <td>Azerbaijan</td>\n",
              "      <td>1120.05</td>\n",
              "      <td>2207.400000</td>\n",
              "    </tr>\n",
              "  </tbody>\n",
              "</table>\n",
              "</div>"
            ],
            "text/plain": [
              "    Rank        Country  Daily rate  Sunshine hours\n",
              "0      1  United States     1454.74     2827.618519\n",
              "1      4     Bangladesh     1401.53     2066.000000\n",
              "2      5          India     1400.84     2517.020000\n",
              "3      6       Pakistan     1400.42     3108.516667\n",
              "4      7         Brazil     1396.10     2237.581818\n",
              "5     10    Afghanistan     1385.14     3175.100000\n",
              "6     11        Finland     1344.13     1858.000000\n",
              "7     12         Israel     1273.92     3311.000000\n",
              "8     13       Slovenia     1248.47     1974.000000\n",
              "9     14        Belgium     1244.46     1546.000000\n",
              "10    15         France     1234.32     2166.666667\n",
              "11    16          Chile     1221.23     2841.780000\n",
              "12    19        Bolivia     1161.56     2288.900000\n",
              "13    20      Nicaragua     1161.25     2759.900000\n",
              "14    21         Canada     1157.07     2028.044444\n",
              "15    22        Ecuador     1156.30     1909.550000\n",
              "16    23           Peru     1156.07     2281.650000\n",
              "17    24        Croatia     1141.79     2272.000000\n",
              "18    25        Armenia     1133.20     2474.000000\n",
              "19    26     Azerbaijan     1120.05     2207.400000"
            ]
          },
          "metadata": {},
          "execution_count": 150
        }
      ]
    },
    {
      "cell_type": "code",
      "metadata": {
        "colab": {
          "base_uri": "https://localhost:8080/",
          "height": 350
        },
        "id": "WABX-yt9JkGf",
        "outputId": "0353661b-7806-4191-d45c-f0b59a91a10a"
      },
      "source": [
        "import matplotlib.pyplot as plt\n",
        "import seaborn as sns\n",
        "\n",
        "sns.scatterplot('Rank', 'Sunshine hours', data=data)"
      ],
      "execution_count": 153,
      "outputs": [
        {
          "output_type": "stream",
          "name": "stderr",
          "text": [
            "/usr/local/lib/python3.7/dist-packages/seaborn/_decorators.py:43: FutureWarning: Pass the following variables as keyword args: x, y. From version 0.12, the only valid positional argument will be `data`, and passing other arguments without an explicit keyword will result in an error or misinterpretation.\n",
            "  FutureWarning\n"
          ]
        },
        {
          "output_type": "execute_result",
          "data": {
            "text/plain": [
              "<matplotlib.axes._subplots.AxesSubplot at 0x7f49b328b890>"
            ]
          },
          "metadata": {},
          "execution_count": 153
        },
        {
          "output_type": "display_data",
          "data": {
            "image/png": "[encoded data removed]",
            "text/plain": [
              "<Figure size 432x288 with 1 Axes>"
            ]
          },
          "metadata": {
            "needs_background": "light"
          }
        }
      ]
    }
  ]
}