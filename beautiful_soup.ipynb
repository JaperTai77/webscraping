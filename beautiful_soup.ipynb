{
 "cells": [
  {
   "cell_type": "markdown",
   "metadata": {},
   "source": [
    "### Imports"
   ]
  },
  {
   "cell_type": "code",
   "execution_count": 1,
   "metadata": {},
   "outputs": [],
   "source": [
    "from bs4 import BeautifulSoup\n",
    "import requests"
   ]
  },
  {
   "cell_type": "markdown",
   "metadata": {},
   "source": [
    "### HTTP Request"
   ]
  },
  {
   "cell_type": "code",
   "execution_count": 2,
   "metadata": {},
   "outputs": [],
   "source": [
    "url = 'http://automationpractice.com/index.php?id_category=3&controller=category'"
   ]
  },
  {
   "cell_type": "code",
   "execution_count": 3,
   "metadata": {},
   "outputs": [],
   "source": [
    "response = requests.get(url)"
   ]
  },
  {
   "cell_type": "code",
   "execution_count": 4,
   "metadata": {},
   "outputs": [
    {
     "data": {
      "text/plain": [
       "200"
      ]
     },
     "execution_count": 4,
     "metadata": {},
     "output_type": "execute_result"
    }
   ],
   "source": [
    "response.status_code"
   ]
  },
  {
   "cell_type": "code",
   "execution_count": null,
   "metadata": {},
   "outputs": [],
   "source": []
  },
  {
   "cell_type": "markdown",
   "metadata": {},
   "source": [
    "### Soup Object"
   ]
  },
  {
   "cell_type": "code",
   "execution_count": 5,
   "metadata": {},
   "outputs": [],
   "source": [
    "soup = BeautifulSoup(response.content, 'html.parser')"
   ]
  },
  {
   "cell_type": "code",
   "execution_count": null,
   "metadata": {},
   "outputs": [],
   "source": []
  },
  {
   "cell_type": "markdown",
   "metadata": {},
   "source": [
    "### Important Functions"
   ]
  },
  {
   "cell_type": "markdown",
   "metadata": {},
   "source": [
    "#### find() "
   ]
  },
  {
   "cell_type": "markdown",
   "metadata": {},
   "source": [
    "returns first element"
   ]
  },
  {
   "cell_type": "code",
   "execution_count": 10,
   "metadata": {},
   "outputs": [],
   "source": [
    "# FIND BY ID"
   ]
  },
  {
   "cell_type": "code",
   "execution_count": 9,
   "metadata": {},
   "outputs": [
    {
     "data": {
      "text/plain": [
       "'Contact us'"
      ]
     },
     "execution_count": 9,
     "metadata": {},
     "output_type": "execute_result"
    }
   ],
   "source": [
    "contact = soup.find(id = 'contact-link').get_text().replace('\\n','') # replace() or strip()\n",
    "contact"
   ]
  },
  {
   "cell_type": "code",
   "execution_count": 13,
   "metadata": {
    "scrolled": true
   },
   "outputs": [
    {
     "data": {
      "text/plain": [
       "<a href=\"http://automationpractice.com/index.php?controller=contact\" title=\"Contact Us\">Contact us</a>"
      ]
     },
     "execution_count": 13,
     "metadata": {},
     "output_type": "execute_result"
    }
   ],
   "source": [
    "contact = soup.find(id = 'contact-link').find('a')\n",
    "contact"
   ]
  },
  {
   "cell_type": "code",
   "execution_count": null,
   "metadata": {},
   "outputs": [],
   "source": [
    "# FIND BY CLASS"
   ]
  },
  {
   "cell_type": "code",
   "execution_count": 15,
   "metadata": {},
   "outputs": [
    {
     "data": {
      "text/plain": [
       "<div class=\"content_price\" itemprop=\"offers\" itemscope=\"\" itemtype=\"http://schema.org/Offer\">\n",
       "<span class=\"price product-price\" itemprop=\"price\">\n",
       "\t\t\t\t\t\t\t\t\t\t$16.51\t\t\t\t\t\t\t\t\t</span>\n",
       "<meta content=\"USD\" itemprop=\"priceCurrency\"/>\n",
       "</div>"
      ]
     },
     "execution_count": 15,
     "metadata": {},
     "output_type": "execute_result"
    }
   ],
   "source": [
    "result = soup.find(class_ = 'ajax_block_product').find(class_ = 'content_price')\n",
    "result"
   ]
  },
  {
   "cell_type": "markdown",
   "metadata": {},
   "source": [
    "#### find_all() & findAll()"
   ]
  },
  {
   "cell_type": "code",
   "execution_count": 23,
   "metadata": {},
   "outputs": [
    {
     "data": {
      "text/plain": [
       "7"
      ]
     },
     "execution_count": 23,
     "metadata": {},
     "output_type": "execute_result"
    }
   ],
   "source": [
    "result = soup.find_all(class_ = 'ajax_block_product')\n",
    "len(result)"
   ]
  },
  {
   "cell_type": "markdown",
   "metadata": {},
   "source": [
    "returns a list"
   ]
  },
  {
   "cell_type": "markdown",
   "metadata": {},
   "source": [
    "#### select_one()"
   ]
  },
  {
   "cell_type": "markdown",
   "metadata": {},
   "source": [
    "select by css selectors - returns first element - equivalent to \"find()\""
   ]
  },
  {
   "cell_type": "code",
   "execution_count": 28,
   "metadata": {},
   "outputs": [
    {
     "data": {
      "text/plain": [
       "'Call us now: 0123-456-789'"
      ]
     },
     "execution_count": 28,
     "metadata": {},
     "output_type": "execute_result"
    }
   ],
   "source": [
    "soup.select_one('.shop-phone').get_text().strip() # . for class"
   ]
  },
  {
   "cell_type": "code",
   "execution_count": 30,
   "metadata": {},
   "outputs": [
    {
     "data": {
      "text/plain": [
       "'Contact us'"
      ]
     },
     "execution_count": 30,
     "metadata": {},
     "output_type": "execute_result"
    }
   ],
   "source": [
    "soup.select_one('#contact-link').get_text().strip() # # for id"
   ]
  },
  {
   "cell_type": "code",
   "execution_count": null,
   "metadata": {},
   "outputs": [],
   "source": []
  },
  {
   "cell_type": "markdown",
   "metadata": {},
   "source": [
    "#### select()"
   ]
  },
  {
   "cell_type": "markdown",
   "metadata": {},
   "source": [
    "select by css selectors - returns a list - equivalent to \"find_all()/findAll()\""
   ]
  },
  {
   "cell_type": "code",
   "execution_count": 35,
   "metadata": {},
   "outputs": [],
   "source": [
    "result = soup.select('.ajax_block_product')"
   ]
  },
  {
   "cell_type": "code",
   "execution_count": 34,
   "metadata": {},
   "outputs": [
    {
     "data": {
      "text/plain": [
       "7"
      ]
     },
     "execution_count": 34,
     "metadata": {},
     "output_type": "execute_result"
    }
   ],
   "source": [
    "len(result)"
   ]
  },
  {
   "cell_type": "markdown",
   "metadata": {},
   "source": [
    "#### get value of attributes vs. get text"
   ]
  },
  {
   "cell_type": "code",
   "execution_count": 36,
   "metadata": {},
   "outputs": [
    {
     "data": {
      "text/plain": [
       "<h5 itemprop=\"name\">\n",
       "<a class=\"product-name\" href=\"http://automationpractice.com/index.php?id_product=1&amp;controller=product\" itemprop=\"url\" title=\"Faded Short Sleeve T-shirts\">\n",
       "\t\t\t\t\t\t\tFaded Short Sleeve T-shirts\n",
       "\t\t\t\t\t\t</a>\n",
       "</h5>"
      ]
     },
     "execution_count": 36,
     "metadata": {},
     "output_type": "execute_result"
    }
   ],
   "source": [
    "soup.find(itemprop=\"name\")"
   ]
  },
  {
   "cell_type": "code",
   "execution_count": 39,
   "metadata": {
    "scrolled": true
   },
   "outputs": [
    {
     "data": {
      "text/plain": [
       "'Faded Short Sleeve T-shirts'"
      ]
     },
     "execution_count": 39,
     "metadata": {},
     "output_type": "execute_result"
    }
   ],
   "source": [
    "soup.find(itemprop=\"name\").find('a').get('title')"
   ]
  },
  {
   "cell_type": "code",
   "execution_count": 40,
   "metadata": {},
   "outputs": [
    {
     "data": {
      "text/plain": [
       "'Faded Short Sleeve T-shirts'"
      ]
     },
     "execution_count": 40,
     "metadata": {},
     "output_type": "execute_result"
    }
   ],
   "source": [
    "soup.find(itemprop=\"name\").find('a').get_text().strip()"
   ]
  },
  {
   "cell_type": "markdown",
   "metadata": {},
   "source": [
    "### Siblings and Parents"
   ]
  },
  {
   "cell_type": "code",
   "execution_count": 43,
   "metadata": {},
   "outputs": [
    {
     "data": {
      "text/plain": [
       "'Blouse'"
      ]
     },
     "execution_count": 43,
     "metadata": {},
     "output_type": "execute_result"
    }
   ],
   "source": [
    "# find product1's siblings\n",
    "soup.select_one('.ajax_block_product').find_next_sibling().select_one('.product-name').get('title').strip()"
   ]
  },
  {
   "cell_type": "code",
   "execution_count": 45,
   "metadata": {},
   "outputs": [
    {
     "data": {
      "text/plain": [
       "'Printed Summer Dress'"
      ]
     },
     "execution_count": 45,
     "metadata": {},
     "output_type": "execute_result"
    }
   ],
   "source": [
    "# go to last product\n",
    "soup.select('.ajax_block_product')[6].find_previous_sibling().select_one('.product-name').get('title').strip()"
   ]
  },
  {
   "cell_type": "code",
   "execution_count": 48,
   "metadata": {},
   "outputs": [
    {
     "data": {
      "text/plain": [
       "<ul class=\"product_list grid row\">\n",
       "<li class=\"ajax_block_product col-xs-12 col-sm-6 col-md-4 first-in-line first-item-of-tablet-line first-item-of-mobile-line\">\n",
       "<div class=\"product-container\" itemscope=\"\" itemtype=\"http://schema.org/Product\">\n",
       "<div class=\"left-block\">\n",
       "<div class=\"product-image-container\">\n",
       "<a class=\"product_img_link\" href=\"http://automationpractice.com/index.php?id_product=1&amp;controller=product\" itemprop=\"url\" title=\"Faded Short Sleeve T-shirts\">\n",
       "<img alt=\"Faded Short Sleeve T-shirts\" class=\"replace-2x img-responsive\" height=\"250\" itemprop=\"image\" src=\"http://automationpractice.com/img/p/1/1-home_default.jpg\" title=\"Faded Short Sleeve T-shirts\" width=\"250\"/>\n",
       "</a>\n",
       "<div class=\"quick-view-wrapper-mobile\">\n",
       "<a class=\"quick-view-mobile\" href=\"http://automationpractice.com/index.php?id_product=1&amp;controller=product\" rel=\"http://automationpractice.com/index.php?id_product=1&amp;controller=product\">\n",
       "<i class=\"icon-eye-open\"></i>\n",
       "</a>\n",
       "</div>\n",
       "<a class=\"quick-view\" href=\"http://automationpractice.com/index.php?id_product=1&amp;controller=product\" rel=\"http://automationpractice.com/index.php?id_product=1&amp;controller=product\">\n",
       "<span>Quick view</span>\n",
       "</a>\n",
       "<div class=\"content_price\" itemprop=\"offers\" itemscope=\"\" itemtype=\"http://schema.org/Offer\">\n",
       "<span class=\"price product-price\" itemprop=\"price\">\n",
       "\t\t\t\t\t\t\t\t\t\t$16.51\t\t\t\t\t\t\t\t\t</span>\n",
       "<meta content=\"USD\" itemprop=\"priceCurrency\"/>\n",
       "</div>\n",
       "</div>\n",
       "</div>\n",
       "<div class=\"right-block\">\n",
       "<h5 itemprop=\"name\">\n",
       "<a class=\"product-name\" href=\"http://automationpractice.com/index.php?id_product=1&amp;controller=product\" itemprop=\"url\" title=\"Faded Short Sleeve T-shirts\">\n",
       "\t\t\t\t\t\t\tFaded Short Sleeve T-shirts\n",
       "\t\t\t\t\t\t</a>\n",
       "</h5>\n",
       "<p class=\"product-desc\" itemprop=\"description\">\n",
       "\t\t\t\t\t\tFaded short sleeve t-shirt with high neckline. Soft and stretchy material for a comfortable fit. Accessorize with a straw hat and you're ready for summer!\n",
       "\t\t\t\t\t</p>\n",
       "<div class=\"content_price\" itemprop=\"offers\" itemscope=\"\" itemtype=\"http://schema.org/Offer\">\n",
       "<span class=\"price product-price\" itemprop=\"price\">\n",
       "\t\t\t\t\t\t\t\t$16.51\t\t\t\t\t\t\t</span>\n",
       "<meta content=\"USD\" itemprop=\"priceCurrency\"/>\n",
       "</div>\n",
       "<div class=\"button-container\">\n",
       "<a class=\"button ajax_add_to_cart_button btn btn-default\" data-id-product=\"1\" href=\"http://automationpractice.com/index.php?controller=cart&amp;add=1&amp;id_product=1&amp;token=e817bb0705dd58da8db074c69f729fd8\" rel=\"nofollow\" title=\"Add to cart\">\n",
       "<span>Add to cart</span>\n",
       "</a>\n",
       "<a class=\"button lnk_view btn btn-default\" href=\"http://automationpractice.com/index.php?id_product=1&amp;controller=product\" itemprop=\"url\" title=\"View\">\n",
       "<span>More</span>\n",
       "</a>\n",
       "</div>\n",
       "<div class=\"color-list-container\"><ul class=\"color_to_pick_list clearfix\">\n",
       "<li>\n",
       "<a class=\"color_pick\" href=\"http://automationpractice.com/index.php?id_product=1&amp;controller=product#/size-s/color-orange\" id=\"color_1\" style=\"background:#F39C11;\">\n",
       "</a>\n",
       "</li>\n",
       "<li>\n",
       "<a class=\"color_pick\" href=\"http://automationpractice.com/index.php?id_product=1&amp;controller=product#/size-s/color-blue\" id=\"color_2\" style=\"background:#5D9CEC;\">\n",
       "</a>\n",
       "</li>\n",
       "</ul></div>\n",
       "<div class=\"product-flags\">\n",
       "</div>\n",
       "<span class=\"availability\" itemprop=\"offers\" itemscope=\"\" itemtype=\"http://schema.org/Offer\">\n",
       "<span class=\"available-now\">\n",
       "<link href=\"http://schema.org/InStock\" itemprop=\"availability\"/>In stock\t\t\t\t\t\t\t\t\t</span>\n",
       "</span>\n",
       "</div>\n",
       "<div class=\"functional-buttons clearfix\">\n",
       "<div class=\"wishlist\">\n",
       "<a class=\"addToWishlist wishlistProd_1\" href=\"#\" onclick=\"WishlistCart('wishlist_block_list', 'add', '1', false, 1); return false;\" rel=\"1\">\n",
       "\t\tAdd to Wishlist\n",
       "\t</a>\n",
       "</div>\n",
       "<div class=\"compare\">\n",
       "<a class=\"add_to_compare\" data-id-product=\"1\" href=\"http://automationpractice.com/index.php?id_product=1&amp;controller=product\">Add to Compare</a>\n",
       "</div>\n",
       "</div>\n",
       "</div><!-- .product-container> -->\n",
       "</li>\n",
       "<li class=\"ajax_block_product col-xs-12 col-sm-6 col-md-4 last-item-of-tablet-line\">\n",
       "<div class=\"product-container\" itemscope=\"\" itemtype=\"http://schema.org/Product\">\n",
       "<div class=\"left-block\">\n",
       "<div class=\"product-image-container\">\n",
       "<a class=\"product_img_link\" href=\"http://automationpractice.com/index.php?id_product=2&amp;controller=product\" itemprop=\"url\" title=\"Blouse\">\n",
       "<img alt=\"Blouse\" class=\"replace-2x img-responsive\" height=\"250\" itemprop=\"image\" src=\"http://automationpractice.com/img/p/7/7-home_default.jpg\" title=\"Blouse\" width=\"250\"/>\n",
       "</a>\n",
       "<div class=\"quick-view-wrapper-mobile\">\n",
       "<a class=\"quick-view-mobile\" href=\"http://automationpractice.com/index.php?id_product=2&amp;controller=product\" rel=\"http://automationpractice.com/index.php?id_product=2&amp;controller=product\">\n",
       "<i class=\"icon-eye-open\"></i>\n",
       "</a>\n",
       "</div>\n",
       "<a class=\"quick-view\" href=\"http://automationpractice.com/index.php?id_product=2&amp;controller=product\" rel=\"http://automationpractice.com/index.php?id_product=2&amp;controller=product\">\n",
       "<span>Quick view</span>\n",
       "</a>\n",
       "<div class=\"content_price\" itemprop=\"offers\" itemscope=\"\" itemtype=\"http://schema.org/Offer\">\n",
       "<span class=\"price product-price\" itemprop=\"price\">\n",
       "\t\t\t\t\t\t\t\t\t\t$27.00\t\t\t\t\t\t\t\t\t</span>\n",
       "<meta content=\"USD\" itemprop=\"priceCurrency\"/>\n",
       "</div>\n",
       "</div>\n",
       "</div>\n",
       "<div class=\"right-block\">\n",
       "<h5 itemprop=\"name\">\n",
       "<a class=\"product-name\" href=\"http://automationpractice.com/index.php?id_product=2&amp;controller=product\" itemprop=\"url\" title=\"Blouse\">\n",
       "\t\t\t\t\t\t\tBlouse\n",
       "\t\t\t\t\t\t</a>\n",
       "</h5>\n",
       "<p class=\"product-desc\" itemprop=\"description\">\n",
       "\t\t\t\t\t\tShort sleeved blouse with feminine draped sleeve detail.\n",
       "\t\t\t\t\t</p>\n",
       "<div class=\"content_price\" itemprop=\"offers\" itemscope=\"\" itemtype=\"http://schema.org/Offer\">\n",
       "<span class=\"price product-price\" itemprop=\"price\">\n",
       "\t\t\t\t\t\t\t\t$27.00\t\t\t\t\t\t\t</span>\n",
       "<meta content=\"USD\" itemprop=\"priceCurrency\"/>\n",
       "</div>\n",
       "<div class=\"button-container\">\n",
       "<a class=\"button ajax_add_to_cart_button btn btn-default\" data-id-product=\"2\" href=\"http://automationpractice.com/index.php?controller=cart&amp;add=1&amp;id_product=2&amp;token=e817bb0705dd58da8db074c69f729fd8\" rel=\"nofollow\" title=\"Add to cart\">\n",
       "<span>Add to cart</span>\n",
       "</a>\n",
       "<a class=\"button lnk_view btn btn-default\" href=\"http://automationpractice.com/index.php?id_product=2&amp;controller=product\" itemprop=\"url\" title=\"View\">\n",
       "<span>More</span>\n",
       "</a>\n",
       "</div>\n",
       "<div class=\"color-list-container\"><ul class=\"color_to_pick_list clearfix\">\n",
       "<li>\n",
       "<a class=\"color_pick\" href=\"http://automationpractice.com/index.php?id_product=2&amp;controller=product#/size-s/color-white\" id=\"color_8\" style=\"background:#ffffff;\">\n",
       "</a>\n",
       "</li>\n",
       "<li>\n",
       "<a class=\"color_pick\" href=\"http://automationpractice.com/index.php?id_product=2&amp;controller=product#/size-s/color-black\" id=\"color_7\" style=\"background:#434A54;\">\n",
       "</a>\n",
       "</li>\n",
       "</ul></div>\n",
       "<div class=\"product-flags\">\n",
       "</div>\n",
       "<span class=\"availability\" itemprop=\"offers\" itemscope=\"\" itemtype=\"http://schema.org/Offer\">\n",
       "<span class=\"available-now\">\n",
       "<link href=\"http://schema.org/InStock\" itemprop=\"availability\"/>In stock\t\t\t\t\t\t\t\t\t</span>\n",
       "</span>\n",
       "</div>\n",
       "<div class=\"functional-buttons clearfix\">\n",
       "<div class=\"wishlist\">\n",
       "<a class=\"addToWishlist wishlistProd_2\" href=\"#\" onclick=\"WishlistCart('wishlist_block_list', 'add', '2', false, 1); return false;\" rel=\"2\">\n",
       "\t\tAdd to Wishlist\n",
       "\t</a>\n",
       "</div>\n",
       "<div class=\"compare\">\n",
       "<a class=\"add_to_compare\" data-id-product=\"2\" href=\"http://automationpractice.com/index.php?id_product=2&amp;controller=product\">Add to Compare</a>\n",
       "</div>\n",
       "</div>\n",
       "</div><!-- .product-container> -->\n",
       "</li>\n",
       "<li class=\"ajax_block_product col-xs-12 col-sm-6 col-md-4 last-in-line first-item-of-tablet-line last-item-of-mobile-line\">\n",
       "<div class=\"product-container\" itemscope=\"\" itemtype=\"http://schema.org/Product\">\n",
       "<div class=\"left-block\">\n",
       "<div class=\"product-image-container\">\n",
       "<a class=\"product_img_link\" href=\"http://automationpractice.com/index.php?id_product=3&amp;controller=product\" itemprop=\"url\" title=\"Printed Dress\">\n",
       "<img alt=\"Printed Dress\" class=\"replace-2x img-responsive\" height=\"250\" itemprop=\"image\" src=\"http://automationpractice.com/img/p/8/8-home_default.jpg\" title=\"Printed Dress\" width=\"250\"/>\n",
       "</a>\n",
       "<div class=\"quick-view-wrapper-mobile\">\n",
       "<a class=\"quick-view-mobile\" href=\"http://automationpractice.com/index.php?id_product=3&amp;controller=product\" rel=\"http://automationpractice.com/index.php?id_product=3&amp;controller=product\">\n",
       "<i class=\"icon-eye-open\"></i>\n",
       "</a>\n",
       "</div>\n",
       "<a class=\"quick-view\" href=\"http://automationpractice.com/index.php?id_product=3&amp;controller=product\" rel=\"http://automationpractice.com/index.php?id_product=3&amp;controller=product\">\n",
       "<span>Quick view</span>\n",
       "</a>\n",
       "<div class=\"content_price\" itemprop=\"offers\" itemscope=\"\" itemtype=\"http://schema.org/Offer\">\n",
       "<span class=\"price product-price\" itemprop=\"price\">\n",
       "\t\t\t\t\t\t\t\t\t\t$26.00\t\t\t\t\t\t\t\t\t</span>\n",
       "<meta content=\"USD\" itemprop=\"priceCurrency\"/>\n",
       "</div>\n",
       "</div>\n",
       "</div>\n",
       "<div class=\"right-block\">\n",
       "<h5 itemprop=\"name\">\n",
       "<a class=\"product-name\" href=\"http://automationpractice.com/index.php?id_product=3&amp;controller=product\" itemprop=\"url\" title=\"Printed Dress\">\n",
       "\t\t\t\t\t\t\tPrinted Dress\n",
       "\t\t\t\t\t\t</a>\n",
       "</h5>\n",
       "<p class=\"product-desc\" itemprop=\"description\">\n",
       "\t\t\t\t\t\t100% cotton double printed dress. Black and white striped top and orange high waisted skater skirt bottom.\n",
       "\t\t\t\t\t</p>\n",
       "<div class=\"content_price\" itemprop=\"offers\" itemscope=\"\" itemtype=\"http://schema.org/Offer\">\n",
       "<span class=\"price product-price\" itemprop=\"price\">\n",
       "\t\t\t\t\t\t\t\t$26.00\t\t\t\t\t\t\t</span>\n",
       "<meta content=\"USD\" itemprop=\"priceCurrency\"/>\n",
       "</div>\n",
       "<div class=\"button-container\">\n",
       "<a class=\"button ajax_add_to_cart_button btn btn-default\" data-id-product=\"3\" href=\"http://automationpractice.com/index.php?controller=cart&amp;add=1&amp;id_product=3&amp;token=e817bb0705dd58da8db074c69f729fd8\" rel=\"nofollow\" title=\"Add to cart\">\n",
       "<span>Add to cart</span>\n",
       "</a>\n",
       "<a class=\"button lnk_view btn btn-default\" href=\"http://automationpractice.com/index.php?id_product=3&amp;controller=product\" itemprop=\"url\" title=\"View\">\n",
       "<span>More</span>\n",
       "</a>\n",
       "</div>\n",
       "<div class=\"color-list-container\"><ul class=\"color_to_pick_list clearfix\">\n",
       "<li>\n",
       "<a class=\"color_pick\" href=\"http://automationpractice.com/index.php?id_product=3&amp;controller=product#/size-s/color-orange\" id=\"color_13\" style=\"background:#F39C11;\">\n",
       "</a>\n",
       "</li>\n",
       "</ul></div>\n",
       "<div class=\"product-flags\">\n",
       "</div>\n",
       "<span class=\"availability\" itemprop=\"offers\" itemscope=\"\" itemtype=\"http://schema.org/Offer\">\n",
       "<span class=\"available-now\">\n",
       "<link href=\"http://schema.org/InStock\" itemprop=\"availability\"/>In stock\t\t\t\t\t\t\t\t\t</span>\n",
       "</span>\n",
       "</div>\n",
       "<div class=\"functional-buttons clearfix\">\n",
       "<div class=\"wishlist\">\n",
       "<a class=\"addToWishlist wishlistProd_3\" href=\"#\" onclick=\"WishlistCart('wishlist_block_list', 'add', '3', false, 1); return false;\" rel=\"3\">\n",
       "\t\tAdd to Wishlist\n",
       "\t</a>\n",
       "</div>\n",
       "<div class=\"compare\">\n",
       "<a class=\"add_to_compare\" data-id-product=\"3\" href=\"http://automationpractice.com/index.php?id_product=3&amp;controller=product\">Add to Compare</a>\n",
       "</div>\n",
       "</div>\n",
       "</div><!-- .product-container> -->\n",
       "</li>\n",
       "<li class=\"ajax_block_product col-xs-12 col-sm-6 col-md-4 first-in-line last-item-of-tablet-line first-item-of-mobile-line\">\n",
       "<div class=\"product-container\" itemscope=\"\" itemtype=\"http://schema.org/Product\">\n",
       "<div class=\"left-block\">\n",
       "<div class=\"product-image-container\">\n",
       "<a class=\"product_img_link\" href=\"http://automationpractice.com/index.php?id_product=4&amp;controller=product\" itemprop=\"url\" title=\"Printed Dress\">\n",
       "<img alt=\"Printed Dress\" class=\"replace-2x img-responsive\" height=\"250\" itemprop=\"image\" src=\"http://automationpractice.com/img/p/1/0/10-home_default.jpg\" title=\"Printed Dress\" width=\"250\"/>\n",
       "</a>\n",
       "<div class=\"quick-view-wrapper-mobile\">\n",
       "<a class=\"quick-view-mobile\" href=\"http://automationpractice.com/index.php?id_product=4&amp;controller=product\" rel=\"http://automationpractice.com/index.php?id_product=4&amp;controller=product\">\n",
       "<i class=\"icon-eye-open\"></i>\n",
       "</a>\n",
       "</div>\n",
       "<a class=\"quick-view\" href=\"http://automationpractice.com/index.php?id_product=4&amp;controller=product\" rel=\"http://automationpractice.com/index.php?id_product=4&amp;controller=product\">\n",
       "<span>Quick view</span>\n",
       "</a>\n",
       "<div class=\"content_price\" itemprop=\"offers\" itemscope=\"\" itemtype=\"http://schema.org/Offer\">\n",
       "<span class=\"price product-price\" itemprop=\"price\">\n",
       "\t\t\t\t\t\t\t\t\t\t$50.99\t\t\t\t\t\t\t\t\t</span>\n",
       "<meta content=\"USD\" itemprop=\"priceCurrency\"/>\n",
       "</div>\n",
       "</div>\n",
       "</div>\n",
       "<div class=\"right-block\">\n",
       "<h5 itemprop=\"name\">\n",
       "<a class=\"product-name\" href=\"http://automationpractice.com/index.php?id_product=4&amp;controller=product\" itemprop=\"url\" title=\"Printed Dress\">\n",
       "\t\t\t\t\t\t\tPrinted Dress\n",
       "\t\t\t\t\t\t</a>\n",
       "</h5>\n",
       "<p class=\"product-desc\" itemprop=\"description\">\n",
       "\t\t\t\t\t\tPrinted evening dress with straight sleeves with black thin waist belt and ruffled linings.\n",
       "\t\t\t\t\t</p>\n",
       "<div class=\"content_price\" itemprop=\"offers\" itemscope=\"\" itemtype=\"http://schema.org/Offer\">\n",
       "<span class=\"price product-price\" itemprop=\"price\">\n",
       "\t\t\t\t\t\t\t\t$50.99\t\t\t\t\t\t\t</span>\n",
       "<meta content=\"USD\" itemprop=\"priceCurrency\"/>\n",
       "</div>\n",
       "<div class=\"button-container\">\n",
       "<a class=\"button ajax_add_to_cart_button btn btn-default\" data-id-product=\"4\" href=\"http://automationpractice.com/index.php?controller=cart&amp;add=1&amp;id_product=4&amp;token=e817bb0705dd58da8db074c69f729fd8\" rel=\"nofollow\" title=\"Add to cart\">\n",
       "<span>Add to cart</span>\n",
       "</a>\n",
       "<a class=\"button lnk_view btn btn-default\" href=\"http://automationpractice.com/index.php?id_product=4&amp;controller=product\" itemprop=\"url\" title=\"View\">\n",
       "<span>More</span>\n",
       "</a>\n",
       "</div>\n",
       "<div class=\"color-list-container\"><ul class=\"color_to_pick_list clearfix\">\n",
       "<li>\n",
       "<a class=\"color_pick\" href=\"http://automationpractice.com/index.php?id_product=4&amp;controller=product#/size-s/color-beige\" id=\"color_16\" style=\"background:#f5f5dc;\">\n",
       "</a>\n",
       "</li>\n",
       "<li>\n",
       "<a class=\"color_pick\" href=\"http://automationpractice.com/index.php?id_product=4&amp;controller=product#/size-s/color-pink\" id=\"color_43\" style=\"background:#FCCACD;\">\n",
       "</a>\n",
       "</li>\n",
       "</ul></div>\n",
       "<div class=\"product-flags\">\n",
       "</div>\n",
       "<span class=\"availability\" itemprop=\"offers\" itemscope=\"\" itemtype=\"http://schema.org/Offer\">\n",
       "<span class=\"available-now\">\n",
       "<link href=\"http://schema.org/InStock\" itemprop=\"availability\"/>In stock\t\t\t\t\t\t\t\t\t</span>\n",
       "</span>\n",
       "</div>\n",
       "<div class=\"functional-buttons clearfix\">\n",
       "<div class=\"wishlist\">\n",
       "<a class=\"addToWishlist wishlistProd_4\" href=\"#\" onclick=\"WishlistCart('wishlist_block_list', 'add', '4', false, 1); return false;\" rel=\"4\">\n",
       "\t\tAdd to Wishlist\n",
       "\t</a>\n",
       "</div>\n",
       "<div class=\"compare\">\n",
       "<a class=\"add_to_compare\" data-id-product=\"4\" href=\"http://automationpractice.com/index.php?id_product=4&amp;controller=product\">Add to Compare</a>\n",
       "</div>\n",
       "</div>\n",
       "</div><!-- .product-container> -->\n",
       "</li>\n",
       "<li class=\"ajax_block_product col-xs-12 col-sm-6 col-md-4 first-item-of-tablet-line\">\n",
       "<div class=\"product-container\" itemscope=\"\" itemtype=\"http://schema.org/Product\">\n",
       "<div class=\"left-block\">\n",
       "<div class=\"product-image-container\">\n",
       "<a class=\"product_img_link\" href=\"http://automationpractice.com/index.php?id_product=5&amp;controller=product\" itemprop=\"url\" title=\"Printed Summer Dress\">\n",
       "<img alt=\"Printed Summer Dress\" class=\"replace-2x img-responsive\" height=\"250\" itemprop=\"image\" src=\"http://automationpractice.com/img/p/1/2/12-home_default.jpg\" title=\"Printed Summer Dress\" width=\"250\"/>\n",
       "</a>\n",
       "<div class=\"quick-view-wrapper-mobile\">\n",
       "<a class=\"quick-view-mobile\" href=\"http://automationpractice.com/index.php?id_product=5&amp;controller=product\" rel=\"http://automationpractice.com/index.php?id_product=5&amp;controller=product\">\n",
       "<i class=\"icon-eye-open\"></i>\n",
       "</a>\n",
       "</div>\n",
       "<a class=\"quick-view\" href=\"http://automationpractice.com/index.php?id_product=5&amp;controller=product\" rel=\"http://automationpractice.com/index.php?id_product=5&amp;controller=product\">\n",
       "<span>Quick view</span>\n",
       "</a>\n",
       "<div class=\"content_price\" itemprop=\"offers\" itemscope=\"\" itemtype=\"http://schema.org/Offer\">\n",
       "<span class=\"price product-price\" itemprop=\"price\">\n",
       "\t\t\t\t\t\t\t\t\t\t$28.98\t\t\t\t\t\t\t\t\t</span>\n",
       "<meta content=\"USD\" itemprop=\"priceCurrency\"/>\n",
       "<span class=\"old-price product-price\">\n",
       "\t\t\t\t\t\t\t\t\t\t\t$30.51\n",
       "\t\t\t\t\t\t\t\t\t\t</span>\n",
       "<span class=\"price-percent-reduction\">-5%</span>\n",
       "</div>\n",
       "</div>\n",
       "</div>\n",
       "<div class=\"right-block\">\n",
       "<h5 itemprop=\"name\">\n",
       "<a class=\"product-name\" href=\"http://automationpractice.com/index.php?id_product=5&amp;controller=product\" itemprop=\"url\" title=\"Printed Summer Dress\">\n",
       "\t\t\t\t\t\t\tPrinted Summer Dress\n",
       "\t\t\t\t\t\t</a>\n",
       "</h5>\n",
       "<p class=\"product-desc\" itemprop=\"description\">\n",
       "\t\t\t\t\t\tLong printed dress with thin adjustable straps. V-neckline and wiring under the bust with ruffles at the bottom of the dress.\n",
       "\t\t\t\t\t</p>\n",
       "<div class=\"content_price\" itemprop=\"offers\" itemscope=\"\" itemtype=\"http://schema.org/Offer\">\n",
       "<span class=\"price product-price\" itemprop=\"price\">\n",
       "\t\t\t\t\t\t\t\t$28.98\t\t\t\t\t\t\t</span>\n",
       "<meta content=\"USD\" itemprop=\"priceCurrency\"/>\n",
       "<span class=\"old-price product-price\">\n",
       "\t\t\t\t\t\t\t\t\t$30.51\n",
       "\t\t\t\t\t\t\t\t</span>\n",
       "<span class=\"price-percent-reduction\">-5%</span>\n",
       "</div>\n",
       "<div class=\"button-container\">\n",
       "<a class=\"button ajax_add_to_cart_button btn btn-default\" data-id-product=\"5\" href=\"http://automationpractice.com/index.php?controller=cart&amp;add=1&amp;id_product=5&amp;token=e817bb0705dd58da8db074c69f729fd8\" rel=\"nofollow\" title=\"Add to cart\">\n",
       "<span>Add to cart</span>\n",
       "</a>\n",
       "<a class=\"button lnk_view btn btn-default\" href=\"http://automationpractice.com/index.php?id_product=5&amp;controller=product\" itemprop=\"url\" title=\"View\">\n",
       "<span>More</span>\n",
       "</a>\n",
       "</div>\n",
       "<div class=\"color-list-container\"><ul class=\"color_to_pick_list clearfix\">\n",
       "<li>\n",
       "<a class=\"color_pick\" href=\"http://automationpractice.com/index.php?id_product=5&amp;controller=product#/size-s/color-black\" id=\"color_22\" style=\"background:#434A54;\">\n",
       "</a>\n",
       "</li>\n",
       "<li>\n",
       "<a class=\"color_pick\" href=\"http://automationpractice.com/index.php?id_product=5&amp;controller=product#/size-s/color-orange\" id=\"color_21\" style=\"background:#F39C11;\">\n",
       "</a>\n",
       "</li>\n",
       "<li>\n",
       "<a class=\"color_pick\" href=\"http://automationpractice.com/index.php?id_product=5&amp;controller=product#/size-s/color-blue\" id=\"color_20\" style=\"background:#5D9CEC;\">\n",
       "</a>\n",
       "</li>\n",
       "<li>\n",
       "<a class=\"color_pick\" href=\"http://automationpractice.com/index.php?id_product=5&amp;controller=product#/size-s/color-yellow\" id=\"color_19\" style=\"background:#F1C40F;\">\n",
       "</a>\n",
       "</li>\n",
       "</ul></div>\n",
       "<div class=\"product-flags\">\n",
       "<span class=\"discount\">Reduced price!</span>\n",
       "</div>\n",
       "<span class=\"availability\" itemprop=\"offers\" itemscope=\"\" itemtype=\"http://schema.org/Offer\">\n",
       "<span class=\"available-now\">\n",
       "<link href=\"http://schema.org/InStock\" itemprop=\"availability\"/>In stock\t\t\t\t\t\t\t\t\t</span>\n",
       "</span>\n",
       "</div>\n",
       "<div class=\"functional-buttons clearfix\">\n",
       "<div class=\"wishlist\">\n",
       "<a class=\"addToWishlist wishlistProd_5\" href=\"#\" onclick=\"WishlistCart('wishlist_block_list', 'add', '5', false, 1); return false;\" rel=\"5\">\n",
       "\t\tAdd to Wishlist\n",
       "\t</a>\n",
       "</div>\n",
       "<div class=\"compare\">\n",
       "<a class=\"add_to_compare\" data-id-product=\"5\" href=\"http://automationpractice.com/index.php?id_product=5&amp;controller=product\">Add to Compare</a>\n",
       "</div>\n",
       "</div>\n",
       "</div><!-- .product-container> -->\n",
       "</li>\n",
       "<li class=\"ajax_block_product col-xs-12 col-sm-6 col-md-4 last-in-line last-item-of-tablet-line last-item-of-mobile-line\">\n",
       "<div class=\"product-container\" itemscope=\"\" itemtype=\"http://schema.org/Product\">\n",
       "<div class=\"left-block\">\n",
       "<div class=\"product-image-container\">\n",
       "<a class=\"product_img_link\" href=\"http://automationpractice.com/index.php?id_product=6&amp;controller=product\" itemprop=\"url\" title=\"Printed Summer Dress\">\n",
       "<img alt=\"Printed Summer Dress\" class=\"replace-2x img-responsive\" height=\"250\" itemprop=\"image\" src=\"http://automationpractice.com/img/p/1/6/16-home_default.jpg\" title=\"Printed Summer Dress\" width=\"250\"/>\n",
       "</a>\n",
       "<div class=\"quick-view-wrapper-mobile\">\n",
       "<a class=\"quick-view-mobile\" href=\"http://automationpractice.com/index.php?id_product=6&amp;controller=product\" rel=\"http://automationpractice.com/index.php?id_product=6&amp;controller=product\">\n",
       "<i class=\"icon-eye-open\"></i>\n",
       "</a>\n",
       "</div>\n",
       "<a class=\"quick-view\" href=\"http://automationpractice.com/index.php?id_product=6&amp;controller=product\" rel=\"http://automationpractice.com/index.php?id_product=6&amp;controller=product\">\n",
       "<span>Quick view</span>\n",
       "</a>\n",
       "<div class=\"content_price\" itemprop=\"offers\" itemscope=\"\" itemtype=\"http://schema.org/Offer\">\n",
       "<span class=\"price product-price\" itemprop=\"price\">\n",
       "\t\t\t\t\t\t\t\t\t\t$30.50\t\t\t\t\t\t\t\t\t</span>\n",
       "<meta content=\"USD\" itemprop=\"priceCurrency\"/>\n",
       "</div>\n",
       "</div>\n",
       "</div>\n",
       "<div class=\"right-block\">\n",
       "<h5 itemprop=\"name\">\n",
       "<a class=\"product-name\" href=\"http://automationpractice.com/index.php?id_product=6&amp;controller=product\" itemprop=\"url\" title=\"Printed Summer Dress\">\n",
       "\t\t\t\t\t\t\tPrinted Summer Dress\n",
       "\t\t\t\t\t\t</a>\n",
       "</h5>\n",
       "<p class=\"product-desc\" itemprop=\"description\">\n",
       "\t\t\t\t\t\tSleeveless knee-length chiffon dress. V-neckline with elastic under the bust lining.\n",
       "\t\t\t\t\t</p>\n",
       "<div class=\"content_price\" itemprop=\"offers\" itemscope=\"\" itemtype=\"http://schema.org/Offer\">\n",
       "<span class=\"price product-price\" itemprop=\"price\">\n",
       "\t\t\t\t\t\t\t\t$30.50\t\t\t\t\t\t\t</span>\n",
       "<meta content=\"USD\" itemprop=\"priceCurrency\"/>\n",
       "</div>\n",
       "<div class=\"button-container\">\n",
       "<a class=\"button ajax_add_to_cart_button btn btn-default\" data-id-product=\"6\" href=\"http://automationpractice.com/index.php?controller=cart&amp;add=1&amp;id_product=6&amp;token=e817bb0705dd58da8db074c69f729fd8\" rel=\"nofollow\" title=\"Add to cart\">\n",
       "<span>Add to cart</span>\n",
       "</a>\n",
       "<a class=\"button lnk_view btn btn-default\" href=\"http://automationpractice.com/index.php?id_product=6&amp;controller=product\" itemprop=\"url\" title=\"View\">\n",
       "<span>More</span>\n",
       "</a>\n",
       "</div>\n",
       "<div class=\"color-list-container\"><ul class=\"color_to_pick_list clearfix\">\n",
       "<li>\n",
       "<a class=\"color_pick\" href=\"http://automationpractice.com/index.php?id_product=6&amp;controller=product#/size-s/color-white\" id=\"color_40\" style=\"background:#ffffff;\">\n",
       "</a>\n",
       "</li>\n",
       "<li>\n",
       "<a class=\"color_pick\" href=\"http://automationpractice.com/index.php?id_product=6&amp;controller=product#/size-s/color-yellow\" id=\"color_31\" style=\"background:#F1C40F;\">\n",
       "</a>\n",
       "</li>\n",
       "</ul></div>\n",
       "<div class=\"product-flags\">\n",
       "</div>\n",
       "<span class=\"availability\" itemprop=\"offers\" itemscope=\"\" itemtype=\"http://schema.org/Offer\">\n",
       "<span class=\"available-now\">\n",
       "<link href=\"http://schema.org/InStock\" itemprop=\"availability\"/>In stock\t\t\t\t\t\t\t\t\t</span>\n",
       "</span>\n",
       "</div>\n",
       "<div class=\"functional-buttons clearfix\">\n",
       "<div class=\"wishlist\">\n",
       "<a class=\"addToWishlist wishlistProd_6\" href=\"#\" onclick=\"WishlistCart('wishlist_block_list', 'add', '6', false, 1); return false;\" rel=\"6\">\n",
       "\t\tAdd to Wishlist\n",
       "\t</a>\n",
       "</div>\n",
       "<div class=\"compare\">\n",
       "<a class=\"add_to_compare\" data-id-product=\"6\" href=\"http://automationpractice.com/index.php?id_product=6&amp;controller=product\">Add to Compare</a>\n",
       "</div>\n",
       "</div>\n",
       "</div><!-- .product-container> -->\n",
       "</li>\n",
       "<li class=\"ajax_block_product col-xs-12 col-sm-6 col-md-4 first-in-line last-line first-item-of-tablet-line first-item-of-mobile-line last-mobile-line\">\n",
       "<div class=\"product-container\" itemscope=\"\" itemtype=\"http://schema.org/Product\">\n",
       "<div class=\"left-block\">\n",
       "<div class=\"product-image-container\">\n",
       "<a class=\"product_img_link\" href=\"http://automationpractice.com/index.php?id_product=7&amp;controller=product\" itemprop=\"url\" title=\"Printed Chiffon Dress\">\n",
       "<img alt=\"Printed Chiffon Dress\" class=\"replace-2x img-responsive\" height=\"250\" itemprop=\"image\" src=\"http://automationpractice.com/img/p/2/0/20-home_default.jpg\" title=\"Printed Chiffon Dress\" width=\"250\"/>\n",
       "</a>\n",
       "<div class=\"quick-view-wrapper-mobile\">\n",
       "<a class=\"quick-view-mobile\" href=\"http://automationpractice.com/index.php?id_product=7&amp;controller=product\" rel=\"http://automationpractice.com/index.php?id_product=7&amp;controller=product\">\n",
       "<i class=\"icon-eye-open\"></i>\n",
       "</a>\n",
       "</div>\n",
       "<a class=\"quick-view\" href=\"http://automationpractice.com/index.php?id_product=7&amp;controller=product\" rel=\"http://automationpractice.com/index.php?id_product=7&amp;controller=product\">\n",
       "<span>Quick view</span>\n",
       "</a>\n",
       "<div class=\"content_price\" itemprop=\"offers\" itemscope=\"\" itemtype=\"http://schema.org/Offer\">\n",
       "<span class=\"price product-price\" itemprop=\"price\">\n",
       "\t\t\t\t\t\t\t\t\t\t$16.40\t\t\t\t\t\t\t\t\t</span>\n",
       "<meta content=\"USD\" itemprop=\"priceCurrency\"/>\n",
       "<span class=\"old-price product-price\">\n",
       "\t\t\t\t\t\t\t\t\t\t\t$20.50\n",
       "\t\t\t\t\t\t\t\t\t\t</span>\n",
       "<span class=\"price-percent-reduction\">-20%</span>\n",
       "</div>\n",
       "</div>\n",
       "</div>\n",
       "<div class=\"right-block\">\n",
       "<h5 itemprop=\"name\">\n",
       "<a class=\"product-name\" href=\"http://automationpractice.com/index.php?id_product=7&amp;controller=product\" itemprop=\"url\" title=\"Printed Chiffon Dress\">\n",
       "\t\t\t\t\t\t\tPrinted Chiffon Dress\n",
       "\t\t\t\t\t\t</a>\n",
       "</h5>\n",
       "<p class=\"product-desc\" itemprop=\"description\">\n",
       "\t\t\t\t\t\tPrinted chiffon knee length dress with tank straps. Deep v-neckline.\n",
       "\t\t\t\t\t</p>\n",
       "<div class=\"content_price\" itemprop=\"offers\" itemscope=\"\" itemtype=\"http://schema.org/Offer\">\n",
       "<span class=\"price product-price\" itemprop=\"price\">\n",
       "\t\t\t\t\t\t\t\t$16.40\t\t\t\t\t\t\t</span>\n",
       "<meta content=\"USD\" itemprop=\"priceCurrency\"/>\n",
       "<span class=\"old-price product-price\">\n",
       "\t\t\t\t\t\t\t\t\t$20.50\n",
       "\t\t\t\t\t\t\t\t</span>\n",
       "<span class=\"price-percent-reduction\">-20%</span>\n",
       "</div>\n",
       "<div class=\"button-container\">\n",
       "<a class=\"button ajax_add_to_cart_button btn btn-default\" data-id-product=\"7\" href=\"http://automationpractice.com/index.php?controller=cart&amp;add=1&amp;id_product=7&amp;token=e817bb0705dd58da8db074c69f729fd8\" rel=\"nofollow\" title=\"Add to cart\">\n",
       "<span>Add to cart</span>\n",
       "</a>\n",
       "<a class=\"button lnk_view btn btn-default\" href=\"http://automationpractice.com/index.php?id_product=7&amp;controller=product\" itemprop=\"url\" title=\"View\">\n",
       "<span>More</span>\n",
       "</a>\n",
       "</div>\n",
       "<div class=\"color-list-container\"><ul class=\"color_to_pick_list clearfix\">\n",
       "<li>\n",
       "<a class=\"color_pick\" href=\"http://automationpractice.com/index.php?id_product=7&amp;controller=product#/size-s/color-green\" id=\"color_37\" style=\"background:#A0D468;\">\n",
       "</a>\n",
       "</li>\n",
       "<li>\n",
       "<a class=\"color_pick\" href=\"http://automationpractice.com/index.php?id_product=7&amp;controller=product#/size-s/color-yellow\" id=\"color_34\" style=\"background:#F1C40F;\">\n",
       "</a>\n",
       "</li>\n",
       "</ul></div>\n",
       "<div class=\"product-flags\">\n",
       "<span class=\"discount\">Reduced price!</span>\n",
       "</div>\n",
       "<span class=\"availability\" itemprop=\"offers\" itemscope=\"\" itemtype=\"http://schema.org/Offer\">\n",
       "<span class=\"available-now\">\n",
       "<link href=\"http://schema.org/InStock\" itemprop=\"availability\"/>In stock\t\t\t\t\t\t\t\t\t</span>\n",
       "</span>\n",
       "</div>\n",
       "<div class=\"functional-buttons clearfix\">\n",
       "<div class=\"wishlist\">\n",
       "<a class=\"addToWishlist wishlistProd_7\" href=\"#\" onclick=\"WishlistCart('wishlist_block_list', 'add', '7', false, 1); return false;\" rel=\"7\">\n",
       "\t\tAdd to Wishlist\n",
       "\t</a>\n",
       "</div>\n",
       "<div class=\"compare\">\n",
       "<a class=\"add_to_compare\" data-id-product=\"7\" href=\"http://automationpractice.com/index.php?id_product=7&amp;controller=product\">Add to Compare</a>\n",
       "</div>\n",
       "</div>\n",
       "</div><!-- .product-container> -->\n",
       "</li>\n",
       "</ul>"
      ]
     },
     "execution_count": 48,
     "metadata": {},
     "output_type": "execute_result"
    }
   ],
   "source": [
    "soup.select('.ajax_block_product')[6].find_parent()"
   ]
  },
  {
   "cell_type": "markdown",
   "metadata": {},
   "source": [
    "### Extract Links"
   ]
  },
  {
   "cell_type": "markdown",
   "metadata": {},
   "source": [
    "#### Single Link"
   ]
  },
  {
   "cell_type": "code",
   "execution_count": 60,
   "metadata": {},
   "outputs": [
    {
     "data": {
      "text/plain": [
       "'http://automationpractice.com/index.php?controller=contact'"
      ]
     },
     "execution_count": 60,
     "metadata": {},
     "output_type": "execute_result"
    }
   ],
   "source": [
    "soup.find(id = 'contact-link').find('a').get('href')"
   ]
  },
  {
   "cell_type": "code",
   "execution_count": 61,
   "metadata": {},
   "outputs": [
    {
     "data": {
      "text/plain": [
       "'http://automationpractice.com/index.php?controller=contact'"
      ]
     },
     "execution_count": 61,
     "metadata": {},
     "output_type": "execute_result"
    }
   ],
   "source": [
    "soup.find(id = 'contact-link').find('a')['href']"
   ]
  },
  {
   "cell_type": "markdown",
   "metadata": {},
   "source": [
    "#### multipe links"
   ]
  },
  {
   "cell_type": "code",
   "execution_count": 57,
   "metadata": {},
   "outputs": [
    {
     "data": {
      "text/plain": [
       "7"
      ]
     },
     "execution_count": 57,
     "metadata": {},
     "output_type": "execute_result"
    }
   ],
   "source": [
    "link = soup.find_all(itemprop = 'name')\n",
    "len(link)"
   ]
  },
  {
   "cell_type": "code",
   "execution_count": 58,
   "metadata": {},
   "outputs": [],
   "source": [
    "links = []\n",
    "for i in link:\n",
    "    links.append(i.find('a')['href'])"
   ]
  },
  {
   "cell_type": "code",
   "execution_count": 59,
   "metadata": {},
   "outputs": [
    {
     "data": {
      "text/plain": [
       "['http://automationpractice.com/index.php?id_product=1&controller=product',\n",
       " 'http://automationpractice.com/index.php?id_product=2&controller=product',\n",
       " 'http://automationpractice.com/index.php?id_product=3&controller=product',\n",
       " 'http://automationpractice.com/index.php?id_product=4&controller=product',\n",
       " 'http://automationpractice.com/index.php?id_product=5&controller=product',\n",
       " 'http://automationpractice.com/index.php?id_product=6&controller=product',\n",
       " 'http://automationpractice.com/index.php?id_product=7&controller=product']"
      ]
     },
     "execution_count": 59,
     "metadata": {},
     "output_type": "execute_result"
    }
   ],
   "source": [
    "links"
   ]
  },
  {
   "cell_type": "markdown",
   "metadata": {},
   "source": [
    "### Find Elements - Alternative Syntax"
   ]
  },
  {
   "cell_type": "markdown",
   "metadata": {},
   "source": [
    "#### Alternative 1"
   ]
  },
  {
   "cell_type": "code",
   "execution_count": 62,
   "metadata": {},
   "outputs": [
    {
     "data": {
      "text/plain": [
       "'Contact us'"
      ]
     },
     "execution_count": 62,
     "metadata": {},
     "output_type": "execute_result"
    }
   ],
   "source": [
    "soup.find(id = 'contact-link').get_text().strip()"
   ]
  },
  {
   "cell_type": "markdown",
   "metadata": {},
   "source": [
    "#### Alternative 2"
   ]
  },
  {
   "cell_type": "code",
   "execution_count": 66,
   "metadata": {},
   "outputs": [
    {
     "data": {
      "text/plain": [
       "'Contact us'"
      ]
     },
     "execution_count": 66,
     "metadata": {},
     "output_type": "execute_result"
    }
   ],
   "source": [
    "soup.find('div',{'id':'contact-link'}).get_text().strip()"
   ]
  },
  {
   "cell_type": "markdown",
   "metadata": {},
   "source": [
    "#### Alternative 1"
   ]
  },
  {
   "cell_type": "code",
   "execution_count": 65,
   "metadata": {},
   "outputs": [
    {
     "data": {
      "text/plain": [
       "'Tops'"
      ]
     },
     "execution_count": 65,
     "metadata": {},
     "output_type": "execute_result"
    }
   ],
   "source": [
    "sub = soup.find(class_ = 'subcategory-name').get_text()\n",
    "sub"
   ]
  },
  {
   "cell_type": "markdown",
   "metadata": {},
   "source": [
    "#### Alternative 2"
   ]
  },
  {
   "cell_type": "code",
   "execution_count": 67,
   "metadata": {},
   "outputs": [
    {
     "data": {
      "text/plain": [
       "'Tops'"
      ]
     },
     "execution_count": 67,
     "metadata": {},
     "output_type": "execute_result"
    }
   ],
   "source": [
    "sub = soup.find('a',{'class':'subcategory-name'}).get_text()\n",
    "sub"
   ]
  }
 ],
 "metadata": {
  "kernelspec": {
   "display_name": "Python 3",
   "language": "python",
   "name": "python3"
  },
  "language_info": {
   "codemirror_mode": {
    "name": "ipython",
    "version": 3
   },
   "file_extension": ".py",
   "mimetype": "text/x-python",
   "name": "python",
   "nbconvert_exporter": "python",
   "pygments_lexer": "ipython3",
   "version": "3.7.10"
  }
 },
 "nbformat": 4,
 "nbformat_minor": 4
}
