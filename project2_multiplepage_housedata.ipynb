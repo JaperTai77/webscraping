{
 "cells": [
  {
   "cell_type": "markdown",
   "metadata": {},
   "source": [
    "### Imports"
   ]
  },
  {
   "cell_type": "code",
   "execution_count": 1,
   "metadata": {},
   "outputs": [],
   "source": [
    "from bs4 import BeautifulSoup\n",
    "import requests\n",
    "import pandas as pd "
   ]
  },
  {
   "cell_type": "markdown",
   "metadata": {},
   "source": [
    "### Put all together"
   ]
  },
  {
   "cell_type": "code",
   "execution_count": 2,
   "metadata": {},
   "outputs": [],
   "source": [
    "data = pd.DataFrame(columns=['Street', 'Regions', 'Beds', 'Baths', 'Price'])"
   ]
  },
  {
   "cell_type": "code",
   "execution_count": 3,
   "metadata": {},
   "outputs": [],
   "source": [
    "website = requests.get('https://www.trulia.com/NY/New_York/1_p/')\n",
    "\n",
    "soup = BeautifulSoup(website.content, 'html.parser')\n",
    "result = soup.find_all('li', {'width':\"1,1,0.5,1,0.5\"})\n",
    "results = []\n",
    "for r in result:\n",
    "    if r.has_attr('data-testid'):\n",
    "        results.append(r)\n",
    "\n",
    "streets = [r.find('div', {'data-testid': 'property-address'}).get_text().split(',')[0] for r in results]\n",
    "regions = [r.find('div', {'data-testid': 'property-address'}).get_text().split(',')[1] for r in results]\n",
    "beds = [r.find('div', {'data-testid': 'property-beds'}).get_text() for r in results]\n",
    "baths = [r.find('div', {'data-testid': 'property-baths'}).get_text() for r in results]\n",
    "prices = [r.find('div', {'data-testid': 'property-price'}).get_text() for r in results]\n",
    "\n",
    "for k in range(len(streets)):\n",
    "    data = data.append({'Street': streets[k], 'Regions': regions[k], 'Beds': beds[k],\n",
    "                                         'Baths': baths[k], 'Price': prices[k]}, ignore_index=True)"
   ]
  },
  {
   "cell_type": "code",
   "execution_count": 4,
   "metadata": {
    "scrolled": true
   },
   "outputs": [
    {
     "data": {
      "text/html": [
       "<div>\n",
       "<style scoped>\n",
       "    .dataframe tbody tr th:only-of-type {\n",
       "        vertical-align: middle;\n",
       "    }\n",
       "\n",
       "    .dataframe tbody tr th {\n",
       "        vertical-align: top;\n",
       "    }\n",
       "\n",
       "    .dataframe thead th {\n",
       "        text-align: right;\n",
       "    }\n",
       "</style>\n",
       "<table border=\"1\" class=\"dataframe\">\n",
       "  <thead>\n",
       "    <tr style=\"text-align: right;\">\n",
       "      <th></th>\n",
       "      <th>Street</th>\n",
       "      <th>Regions</th>\n",
       "      <th>Beds</th>\n",
       "      <th>Baths</th>\n",
       "      <th>Price</th>\n",
       "    </tr>\n",
       "  </thead>\n",
       "  <tbody>\n",
       "    <tr>\n",
       "      <th>0</th>\n",
       "      <td>303 E 57th St #32B</td>\n",
       "      <td>New York</td>\n",
       "      <td>2bd</td>\n",
       "      <td>3ba</td>\n",
       "      <td>$329,000</td>\n",
       "    </tr>\n",
       "    <tr>\n",
       "      <th>1</th>\n",
       "      <td>210 E 90th St #4A</td>\n",
       "      <td>New York</td>\n",
       "      <td>1bd</td>\n",
       "      <td>1ba</td>\n",
       "      <td>$299,000</td>\n",
       "    </tr>\n",
       "    <tr>\n",
       "      <th>2</th>\n",
       "      <td>100 W 57th St #16E</td>\n",
       "      <td>New York</td>\n",
       "      <td>Studio</td>\n",
       "      <td>1ba</td>\n",
       "      <td>$179,000</td>\n",
       "    </tr>\n",
       "    <tr>\n",
       "      <th>3</th>\n",
       "      <td>709 E 51st St</td>\n",
       "      <td>Brooklyn</td>\n",
       "      <td>5bd</td>\n",
       "      <td>4ba</td>\n",
       "      <td>$899,000</td>\n",
       "    </tr>\n",
       "    <tr>\n",
       "      <th>4</th>\n",
       "      <td>303 E 57th St #34A</td>\n",
       "      <td>New York</td>\n",
       "      <td>2bd</td>\n",
       "      <td>3ba</td>\n",
       "      <td>$450,000</td>\n",
       "    </tr>\n",
       "  </tbody>\n",
       "</table>\n",
       "</div>"
      ],
      "text/plain": [
       "               Street    Regions    Beds Baths     Price\n",
       "0  303 E 57th St #32B   New York     2bd   3ba  $329,000\n",
       "1   210 E 90th St #4A   New York     1bd   1ba  $299,000\n",
       "2  100 W 57th St #16E   New York  Studio   1ba  $179,000\n",
       "3       709 E 51st St   Brooklyn     5bd   4ba  $899,000\n",
       "4  303 E 57th St #34A   New York     2bd   3ba  $450,000"
      ]
     },
     "execution_count": 4,
     "metadata": {},
     "output_type": "execute_result"
    }
   ],
   "source": [
    "data.head()"
   ]
  },
  {
   "cell_type": "code",
   "execution_count": 6,
   "metadata": {},
   "outputs": [],
   "source": [
    "website = requests.get('https://www.trulia.com/NY/New_York/2_p/')\n",
    "soup = BeautifulSoup(website.content, 'html.parser')\n",
    "result = soup.find_all('li', {'width':\"1,1,0.5,1,0.5\"})\n",
    "results = []\n",
    "for r in result:\n",
    "    if r.has_attr('data-testid'):\n",
    "        results.append(r)\n",
    "\n",
    "streets = [r.find('div', {'data-testid': 'property-address'}).get_text().split(',')[0] for r in results]\n",
    "regions = [r.find('div', {'data-testid': 'property-address'}).get_text().split(',')[1] for r in results]\n",
    "beds = [r.find('div', {'data-testid': 'property-beds'}).get_text() for r in results]\n",
    "baths = [r.find('div', {'data-testid': 'property-baths'}).get_text() for r in results]\n",
    "prices = [r.find('div', {'data-testid': 'property-price'}).get_text() for r in results]\n",
    "\n",
    "for k in range(len(streets)):\n",
    "    data = data.append({'Street': streets[k], 'Regions': regions[k], 'Beds': beds[k],\n",
    "                                         'Baths': baths[k], 'Price': prices[k]}, ignore_index=True)"
   ]
  },
  {
   "cell_type": "markdown",
   "metadata": {},
   "source": [
    "### Information about Dataframe"
   ]
  },
  {
   "cell_type": "code",
   "execution_count": 8,
   "metadata": {},
   "outputs": [
    {
     "data": {
      "text/html": [
       "<div>\n",
       "<style scoped>\n",
       "    .dataframe tbody tr th:only-of-type {\n",
       "        vertical-align: middle;\n",
       "    }\n",
       "\n",
       "    .dataframe tbody tr th {\n",
       "        vertical-align: top;\n",
       "    }\n",
       "\n",
       "    .dataframe thead th {\n",
       "        text-align: right;\n",
       "    }\n",
       "</style>\n",
       "<table border=\"1\" class=\"dataframe\">\n",
       "  <thead>\n",
       "    <tr style=\"text-align: right;\">\n",
       "      <th></th>\n",
       "      <th>Street</th>\n",
       "      <th>Regions</th>\n",
       "      <th>Beds</th>\n",
       "      <th>Baths</th>\n",
       "      <th>Price</th>\n",
       "    </tr>\n",
       "  </thead>\n",
       "  <tbody>\n",
       "    <tr>\n",
       "      <th>115</th>\n",
       "      <td>63 Ocean Ave</td>\n",
       "      <td>Staten Island</td>\n",
       "      <td>3bd</td>\n",
       "      <td>2ba</td>\n",
       "      <td>$589,999</td>\n",
       "    </tr>\n",
       "    <tr>\n",
       "      <th>116</th>\n",
       "      <td>2239 Troy Ave #2E</td>\n",
       "      <td>Brooklyn</td>\n",
       "      <td>1bd</td>\n",
       "      <td>1ba</td>\n",
       "      <td>$209,000</td>\n",
       "    </tr>\n",
       "    <tr>\n",
       "      <th>117</th>\n",
       "      <td>106 E 71st St</td>\n",
       "      <td>New York</td>\n",
       "      <td>7bd</td>\n",
       "      <td>9ba</td>\n",
       "      <td>$26,400,000</td>\n",
       "    </tr>\n",
       "    <tr>\n",
       "      <th>118</th>\n",
       "      <td>854 Intervale Ave #12</td>\n",
       "      <td>Bronx</td>\n",
       "      <td>3bd</td>\n",
       "      <td>1ba</td>\n",
       "      <td>$167,000</td>\n",
       "    </tr>\n",
       "    <tr>\n",
       "      <th>119</th>\n",
       "      <td>473 Union St</td>\n",
       "      <td>Brooklyn</td>\n",
       "      <td>5bd</td>\n",
       "      <td>5ba</td>\n",
       "      <td>$1,900,000</td>\n",
       "    </tr>\n",
       "  </tbody>\n",
       "</table>\n",
       "</div>"
      ],
      "text/plain": [
       "                    Street         Regions Beds Baths        Price\n",
       "115           63 Ocean Ave   Staten Island  3bd   2ba     $589,999\n",
       "116      2239 Troy Ave #2E        Brooklyn  1bd   1ba     $209,000\n",
       "117          106 E 71st St        New York  7bd   9ba  $26,400,000\n",
       "118  854 Intervale Ave #12           Bronx  3bd   1ba     $167,000\n",
       "119           473 Union St        Brooklyn  5bd   5ba   $1,900,000"
      ]
     },
     "execution_count": 8,
     "metadata": {},
     "output_type": "execute_result"
    }
   ],
   "source": [
    "data.tail()"
   ]
  },
  {
   "cell_type": "markdown",
   "metadata": {},
   "source": [
    "### Data Cleaning"
   ]
  },
  {
   "cell_type": "code",
   "execution_count": 11,
   "metadata": {},
   "outputs": [],
   "source": [
    "data.Beds = data.Beds.apply(lambda x: x.strip('bd'))\n",
    "data.Baths = data.Baths.apply(lambda x: x.strip('ba'))"
   ]
  },
  {
   "cell_type": "code",
   "execution_count": 13,
   "metadata": {},
   "outputs": [
    {
     "data": {
      "text/html": [
       "<div>\n",
       "<style scoped>\n",
       "    .dataframe tbody tr th:only-of-type {\n",
       "        vertical-align: middle;\n",
       "    }\n",
       "\n",
       "    .dataframe tbody tr th {\n",
       "        vertical-align: top;\n",
       "    }\n",
       "\n",
       "    .dataframe thead th {\n",
       "        text-align: right;\n",
       "    }\n",
       "</style>\n",
       "<table border=\"1\" class=\"dataframe\">\n",
       "  <thead>\n",
       "    <tr style=\"text-align: right;\">\n",
       "      <th></th>\n",
       "      <th>Street</th>\n",
       "      <th>Regions</th>\n",
       "      <th>Beds</th>\n",
       "      <th>Baths</th>\n",
       "      <th>Price</th>\n",
       "    </tr>\n",
       "  </thead>\n",
       "  <tbody>\n",
       "    <tr>\n",
       "      <th>0</th>\n",
       "      <td>303 E 57th St #32B</td>\n",
       "      <td>New York</td>\n",
       "      <td>2</td>\n",
       "      <td>3</td>\n",
       "      <td>$329,000</td>\n",
       "    </tr>\n",
       "    <tr>\n",
       "      <th>1</th>\n",
       "      <td>210 E 90th St #4A</td>\n",
       "      <td>New York</td>\n",
       "      <td>1</td>\n",
       "      <td>1</td>\n",
       "      <td>$299,000</td>\n",
       "    </tr>\n",
       "    <tr>\n",
       "      <th>2</th>\n",
       "      <td>100 W 57th St #16E</td>\n",
       "      <td>New York</td>\n",
       "      <td>Studio</td>\n",
       "      <td>1</td>\n",
       "      <td>$179,000</td>\n",
       "    </tr>\n",
       "    <tr>\n",
       "      <th>3</th>\n",
       "      <td>709 E 51st St</td>\n",
       "      <td>Brooklyn</td>\n",
       "      <td>5</td>\n",
       "      <td>4</td>\n",
       "      <td>$899,000</td>\n",
       "    </tr>\n",
       "    <tr>\n",
       "      <th>4</th>\n",
       "      <td>303 E 57th St #34A</td>\n",
       "      <td>New York</td>\n",
       "      <td>2</td>\n",
       "      <td>3</td>\n",
       "      <td>$450,000</td>\n",
       "    </tr>\n",
       "  </tbody>\n",
       "</table>\n",
       "</div>"
      ],
      "text/plain": [
       "               Street    Regions    Beds Baths     Price\n",
       "0  303 E 57th St #32B   New York       2     3  $329,000\n",
       "1   210 E 90th St #4A   New York       1     1  $299,000\n",
       "2  100 W 57th St #16E   New York  Studio     1  $179,000\n",
       "3       709 E 51st St   Brooklyn       5     4  $899,000\n",
       "4  303 E 57th St #34A   New York       2     3  $450,000"
      ]
     },
     "execution_count": 13,
     "metadata": {},
     "output_type": "execute_result"
    }
   ],
   "source": [
    "data.head()"
   ]
  },
  {
   "cell_type": "markdown",
   "metadata": {},
   "source": [
    "### Save in Excel"
   ]
  },
  {
   "cell_type": "code",
   "execution_count": null,
   "metadata": {},
   "outputs": [],
   "source": []
  }
 ],
 "metadata": {
  "kernelspec": {
   "display_name": "Python 3",
   "language": "python",
   "name": "python3"
  },
  "language_info": {
   "codemirror_mode": {
    "name": "ipython",
    "version": 3
   },
   "file_extension": ".py",
   "mimetype": "text/x-python",
   "name": "python",
   "nbconvert_exporter": "python",
   "pygments_lexer": "ipython3",
   "version": "3.7.10"
  }
 },
 "nbformat": 4,
 "nbformat_minor": 4
}
